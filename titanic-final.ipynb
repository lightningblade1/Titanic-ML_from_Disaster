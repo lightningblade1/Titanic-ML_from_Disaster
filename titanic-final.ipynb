{
 "cells": [
  {
   "cell_type": "code",
   "execution_count": 1,
   "id": "d5d412b3",
   "metadata": {
    "_cell_guid": "b1076dfc-b9ad-4769-8c92-a6c4dae69d19",
    "_uuid": "8f2839f25d086af736a60e9eeb907d3b93b6e0e5",
    "execution": {
     "iopub.execute_input": "2022-03-10T14:52:35.189728Z",
     "iopub.status.busy": "2022-03-10T14:52:35.189006Z",
     "iopub.status.idle": "2022-03-10T14:52:36.677964Z",
     "shell.execute_reply": "2022-03-10T14:52:36.677273Z",
     "shell.execute_reply.started": "2022-03-08T18:00:00.496662Z"
    },
    "papermill": {
     "duration": 1.594591,
     "end_time": "2022-03-10T14:52:36.678134",
     "exception": false,
     "start_time": "2022-03-10T14:52:35.083543",
     "status": "completed"
    },
    "tags": []
   },
   "outputs": [
    {
     "name": "stdout",
     "output_type": "stream",
     "text": [
      "/kaggle/input/titanic/train.csv\n",
      "/kaggle/input/titanic/test.csv\n",
      "/kaggle/input/titanic/gender_submission.csv\n"
     ]
    }
   ],
   "source": [
    "# This Python 3 environment comes with many helpful analytics libraries installed\n",
    "# It is defined by the kaggle/python Docker image: https://github.com/kaggle/docker-python\n",
    "# For example, here's several helpful packages to load\n",
    "import math, time, random, datetime\n",
    "from sklearn.tree import export_graphviz\n",
    "import missingno\n",
    "import seaborn as sns\n",
    "import matplotlib.pyplot as plt\n",
    "from sklearn.preprocessing import OneHotEncoder, LabelEncoder, label_binarize\n",
    "from sklearn.linear_model import LinearRegression, LogisticRegression, SGDClassifier\n",
    "from sklearn.model_selection import train_test_split\n",
    "from sklearn import model_selection, tree, preprocessing, metrics, linear_model\n",
    "from sklearn.tree import DecisionTreeClassifier,plot_tree\n",
    "import numpy as np # linear algebra\n",
    "import pandas as pd # data processing, CSV file I/O (e.g. pd.read_csv)\n",
    "import seaborn as sns\n",
    "# Input data files are available in the read-only \"../input/\" directory\n",
    "# For example, running this (by clicking run or pressing Shift+Enter) will list all files under the input directory\n",
    "\n",
    "import os\n",
    "for dirname, _, filenames in os.walk('/kaggle/input'):\n",
    "    for filename in filenames:\n",
    "        print(os.path.join(dirname, filename))\n",
    "\n",
    "# You can write up to 20GB to the current directory (/kaggle/working/) that gets preserved as output when you create a version using \"Save & Run All\" \n",
    "# You can also write temporary files to /kaggle/temp/, but they won't be saved outside of the current session"
   ]
  },
  {
   "cell_type": "code",
   "execution_count": 2,
   "id": "a1fd35a1",
   "metadata": {
    "execution": {
     "iopub.execute_input": "2022-03-10T14:52:36.839958Z",
     "iopub.status.busy": "2022-03-10T14:52:36.839249Z",
     "iopub.status.idle": "2022-03-10T14:52:36.872317Z",
     "shell.execute_reply": "2022-03-10T14:52:36.872825Z",
     "shell.execute_reply.started": "2022-03-08T18:00:02.306485Z"
    },
    "papermill": {
     "duration": 0.116133,
     "end_time": "2022-03-10T14:52:36.873011",
     "exception": false,
     "start_time": "2022-03-10T14:52:36.756878",
     "status": "completed"
    },
    "tags": []
   },
   "outputs": [],
   "source": [
    "test=pd.read_csv('/kaggle/input/titanic/test.csv')\n",
    "train=pd.read_csv('/kaggle/input/titanic/train.csv')\n",
    "gender_submission=pd.read_csv('/kaggle/input/titanic/gender_submission.csv')  \n"
   ]
  },
  {
   "cell_type": "code",
   "execution_count": 3,
   "id": "ab734bd6",
   "metadata": {
    "execution": {
     "iopub.execute_input": "2022-03-10T14:52:37.035732Z",
     "iopub.status.busy": "2022-03-10T14:52:37.035041Z",
     "iopub.status.idle": "2022-03-10T14:52:37.039571Z",
     "shell.execute_reply": "2022-03-10T14:52:37.040067Z",
     "shell.execute_reply.started": "2022-03-08T18:00:02.351584Z"
    },
    "papermill": {
     "duration": 0.087851,
     "end_time": "2022-03-10T14:52:37.040228",
     "exception": false,
     "start_time": "2022-03-10T14:52:36.952377",
     "status": "completed"
    },
    "tags": []
   },
   "outputs": [
    {
     "name": "stdout",
     "output_type": "stream",
     "text": [
      "891\n",
      "418\n",
      "418\n"
     ]
    }
   ],
   "source": [
    "print(len(train))\n",
    "print(len(test))\n",
    "print(len(gender_submission))"
   ]
  },
  {
   "cell_type": "code",
   "execution_count": 4,
   "id": "ce6cb2fc",
   "metadata": {
    "execution": {
     "iopub.execute_input": "2022-03-10T14:52:37.199996Z",
     "iopub.status.busy": "2022-03-10T14:52:37.199348Z",
     "iopub.status.idle": "2022-03-10T14:52:37.215595Z",
     "shell.execute_reply": "2022-03-10T14:52:37.216105Z",
     "shell.execute_reply.started": "2022-03-08T18:00:02.360643Z"
    },
    "papermill": {
     "duration": 0.097734,
     "end_time": "2022-03-10T14:52:37.216288",
     "exception": false,
     "start_time": "2022-03-10T14:52:37.118554",
     "status": "completed"
    },
    "tags": []
   },
   "outputs": [
    {
     "data": {
      "text/html": [
       "<div>\n",
       "<style scoped>\n",
       "    .dataframe tbody tr th:only-of-type {\n",
       "        vertical-align: middle;\n",
       "    }\n",
       "\n",
       "    .dataframe tbody tr th {\n",
       "        vertical-align: top;\n",
       "    }\n",
       "\n",
       "    .dataframe thead th {\n",
       "        text-align: right;\n",
       "    }\n",
       "</style>\n",
       "<table border=\"1\" class=\"dataframe\">\n",
       "  <thead>\n",
       "    <tr style=\"text-align: right;\">\n",
       "      <th></th>\n",
       "      <th>PassengerId</th>\n",
       "      <th>Survived</th>\n",
       "    </tr>\n",
       "  </thead>\n",
       "  <tbody>\n",
       "    <tr>\n",
       "      <th>0</th>\n",
       "      <td>892</td>\n",
       "      <td>0</td>\n",
       "    </tr>\n",
       "    <tr>\n",
       "      <th>1</th>\n",
       "      <td>893</td>\n",
       "      <td>1</td>\n",
       "    </tr>\n",
       "    <tr>\n",
       "      <th>2</th>\n",
       "      <td>894</td>\n",
       "      <td>0</td>\n",
       "    </tr>\n",
       "    <tr>\n",
       "      <th>3</th>\n",
       "      <td>895</td>\n",
       "      <td>0</td>\n",
       "    </tr>\n",
       "    <tr>\n",
       "      <th>4</th>\n",
       "      <td>896</td>\n",
       "      <td>1</td>\n",
       "    </tr>\n",
       "  </tbody>\n",
       "</table>\n",
       "</div>"
      ],
      "text/plain": [
       "   PassengerId  Survived\n",
       "0          892         0\n",
       "1          893         1\n",
       "2          894         0\n",
       "3          895         0\n",
       "4          896         1"
      ]
     },
     "execution_count": 4,
     "metadata": {},
     "output_type": "execute_result"
    }
   ],
   "source": [
    "gender_submission.head()"
   ]
  },
  {
   "cell_type": "code",
   "execution_count": 5,
   "id": "0e9f457d",
   "metadata": {
    "execution": {
     "iopub.execute_input": "2022-03-10T14:52:37.380846Z",
     "iopub.status.busy": "2022-03-10T14:52:37.379800Z",
     "iopub.status.idle": "2022-03-10T14:52:37.942490Z",
     "shell.execute_reply": "2022-03-10T14:52:37.942991Z",
     "shell.execute_reply.started": "2022-03-08T18:00:02.397237Z"
    },
    "papermill": {
     "duration": 0.645969,
     "end_time": "2022-03-10T14:52:37.943170",
     "exception": false,
     "start_time": "2022-03-10T14:52:37.297201",
     "status": "completed"
    },
    "tags": []
   },
   "outputs": [
    {
     "data": {
      "text/plain": [
       "<AxesSubplot:>"
      ]
     },
     "execution_count": 5,
     "metadata": {},
     "output_type": "execute_result"
    },
    {
     "data": {
      "image/png": "[encoded data removed]",
      "text/plain": [
       "<Figure size 1800x720 with 2 Axes>"
      ]
     },
     "metadata": {
      "needs_background": "light"
     },
     "output_type": "display_data"
    }
   ],
   "source": [
    "missingno.matrix(train)\n"
   ]
  },
  {
   "cell_type": "markdown",
   "id": "c3d02a53",
   "metadata": {
    "papermill": {
     "duration": 0.082297,
     "end_time": "2022-03-10T14:52:38.108266",
     "exception": false,
     "start_time": "2022-03-10T14:52:38.025969",
     "status": "completed"
    },
    "tags": []
   },
   "source": []
  },
  {
   "cell_type": "code",
   "execution_count": 6,
   "id": "c7121f1f",
   "metadata": {
    "execution": {
     "iopub.execute_input": "2022-03-10T14:52:38.281860Z",
     "iopub.status.busy": "2022-03-10T14:52:38.281113Z",
     "iopub.status.idle": "2022-03-10T14:52:38.283864Z",
     "shell.execute_reply": "2022-03-10T14:52:38.284363Z",
     "shell.execute_reply.started": "2022-03-08T18:00:03.016209Z"
    },
    "papermill": {
     "duration": 0.095108,
     "end_time": "2022-03-10T14:52:38.284539",
     "exception": false,
     "start_time": "2022-03-10T14:52:38.189431",
     "status": "completed"
    },
    "tags": []
   },
   "outputs": [
    {
     "data": {
      "text/plain": [
       "PassengerId      0\n",
       "Survived         0\n",
       "Pclass           0\n",
       "Name             0\n",
       "Sex              0\n",
       "Age            177\n",
       "SibSp            0\n",
       "Parch            0\n",
       "Ticket           0\n",
       "Fare             0\n",
       "Cabin          687\n",
       "Embarked         2\n",
       "dtype: int64"
      ]
     },
     "execution_count": 6,
     "metadata": {},
     "output_type": "execute_result"
    }
   ],
   "source": [
    "train.isna().sum()"
   ]
  },
  {
   "cell_type": "code",
   "execution_count": 7,
   "id": "3157e783",
   "metadata": {
    "execution": {
     "iopub.execute_input": "2022-03-10T14:52:38.452650Z",
     "iopub.status.busy": "2022-03-10T14:52:38.449867Z",
     "iopub.status.idle": "2022-03-10T14:52:38.455381Z",
     "shell.execute_reply": "2022-03-10T14:52:38.454873Z",
     "shell.execute_reply.started": "2022-03-08T18:00:03.033829Z"
    },
    "papermill": {
     "duration": 0.089607,
     "end_time": "2022-03-10T14:52:38.455535",
     "exception": false,
     "start_time": "2022-03-10T14:52:38.365928",
     "status": "completed"
    },
    "tags": []
   },
   "outputs": [],
   "source": [
    "MLTrain=pd.DataFrame()"
   ]
  },
  {
   "cell_type": "markdown",
   "id": "8caca1fa",
   "metadata": {
    "papermill": {
     "duration": 0.080836,
     "end_time": "2022-03-10T14:52:38.618485",
     "exception": false,
     "start_time": "2022-03-10T14:52:38.537649",
     "status": "completed"
    },
    "tags": []
   },
   "source": []
  },
  {
   "cell_type": "code",
   "execution_count": 8,
   "id": "2f86700a",
   "metadata": {
    "execution": {
     "iopub.execute_input": "2022-03-10T14:52:38.791021Z",
     "iopub.status.busy": "2022-03-10T14:52:38.790293Z",
     "iopub.status.idle": "2022-03-10T14:52:38.959533Z",
     "shell.execute_reply": "2022-03-10T14:52:38.959022Z",
     "shell.execute_reply.started": "2022-03-08T18:00:03.048398Z"
    },
    "papermill": {
     "duration": 0.260035,
     "end_time": "2022-03-10T14:52:38.959700",
     "exception": false,
     "start_time": "2022-03-10T14:52:38.699665",
     "status": "completed"
    },
    "tags": []
   },
   "outputs": [
    {
     "data": {
      "text/plain": [
       "0    549\n",
       "1    342\n",
       "Name: Survived, dtype: int64"
      ]
     },
     "execution_count": 8,
     "metadata": {},
     "output_type": "execute_result"
    },
    {
     "data": {
      "image/png": "[encoded data removed]",
      "text/plain": [
       "<Figure size 1440x72 with 1 Axes>"
      ]
     },
     "metadata": {
      "needs_background": "light"
     },
     "output_type": "display_data"
    }
   ],
   "source": [
    "fig = plt.figure(figsize=(20,1))\n",
    "sns.countplot(y='Survived', data=train);\n",
    "train.Survived.value_counts()"
   ]
  },
  {
   "cell_type": "markdown",
   "id": "17e3c084",
   "metadata": {
    "papermill": {
     "duration": 0.081795,
     "end_time": "2022-03-10T14:52:39.123329",
     "exception": false,
     "start_time": "2022-03-10T14:52:39.041534",
     "status": "completed"
    },
    "tags": []
   },
   "source": []
  },
  {
   "cell_type": "markdown",
   "id": "81546d50",
   "metadata": {
    "papermill": {
     "duration": 0.081786,
     "end_time": "2022-03-10T14:52:39.287012",
     "exception": false,
     "start_time": "2022-03-10T14:52:39.205226",
     "status": "completed"
    },
    "tags": []
   },
   "source": [
    "\n",
    "# Pclass"
   ]
  },
  {
   "cell_type": "markdown",
   "id": "a3a07278",
   "metadata": {
    "papermill": {
     "duration": 0.08808,
     "end_time": "2022-03-10T14:52:39.456737",
     "exception": false,
     "start_time": "2022-03-10T14:52:39.368657",
     "status": "completed"
    },
    "tags": []
   },
   "source": []
  },
  {
   "cell_type": "code",
   "execution_count": 9,
   "id": "62686030",
   "metadata": {
    "execution": {
     "iopub.execute_input": "2022-03-10T14:52:39.637436Z",
     "iopub.status.busy": "2022-03-10T14:52:39.636712Z",
     "iopub.status.idle": "2022-03-10T14:52:39.934484Z",
     "shell.execute_reply": "2022-03-10T14:52:39.933670Z",
     "shell.execute_reply.started": "2022-03-08T18:00:03.73898Z"
    },
    "papermill": {
     "duration": 0.392776,
     "end_time": "2022-03-10T14:52:39.934653",
     "exception": false,
     "start_time": "2022-03-10T14:52:39.541877",
     "status": "completed"
    },
    "tags": []
   },
   "outputs": [
    {
     "name": "stderr",
     "output_type": "stream",
     "text": [
      "/opt/conda/lib/python3.7/site-packages/seaborn/distributions.py:2619: FutureWarning: `distplot` is a deprecated function and will be removed in a future version. Please adapt your code to use either `displot` (a figure-level function with similar flexibility) or `histplot` (an axes-level function for histograms).\n",
      "  warnings.warn(msg, FutureWarning)\n",
      "/opt/conda/lib/python3.7/site-packages/seaborn/distributions.py:2619: FutureWarning: `distplot` is a deprecated function and will be removed in a future version. Please adapt your code to use either `displot` (a figure-level function with similar flexibility) or `histplot` (an axes-level function for histograms).\n",
      "  warnings.warn(msg, FutureWarning)\n"
     ]
    },
    {
     "data": {
      "text/plain": [
       "0    549\n",
       "1    342\n",
       "Name: Survived, dtype: int64"
      ]
     },
     "execution_count": 9,
     "metadata": {},
     "output_type": "execute_result"
    },
    {
     "data": {
      "image/png": "[encoded data removed]",
      "text/plain": [
       "<Figure size 720x720 with 1 Axes>"
      ]
     },
     "metadata": {
      "needs_background": "light"
     },
     "output_type": "display_data"
    }
   ],
   "source": [
    "fig = plt.figure(figsize=(10, 10))\n",
    "#sns.distplot(train['Pclass']);\n",
    "sns.distplot(train.loc[train['Survived'] == 1]['Pclass'], kde_kws={'label': 'Survived'}, hist_kws={ \"linewidth\": 3});\n",
    "sns.distplot(train.loc[train['Survived'] == 0]['Pclass'], kde_kws={'label': 'Did not survive'}, hist_kws={ \"linewidth\": 3});\n",
    "train.Survived.value_counts()"
   ]
  },
  {
   "cell_type": "markdown",
   "id": "d50e2ff7",
   "metadata": {
    "papermill": {
     "duration": 0.084015,
     "end_time": "2022-03-10T14:52:40.102978",
     "exception": false,
     "start_time": "2022-03-10T14:52:40.018963",
     "status": "completed"
    },
    "tags": []
   },
   "source": []
  },
  {
   "cell_type": "markdown",
   "id": "7a45fc0d",
   "metadata": {
    "papermill": {
     "duration": 0.084762,
     "end_time": "2022-03-10T14:52:40.272193",
     "exception": false,
     "start_time": "2022-03-10T14:52:40.187431",
     "status": "completed"
    },
    "tags": []
   },
   "source": [
    "there is no clear relationship between class and survival"
   ]
  },
  {
   "cell_type": "code",
   "execution_count": 10,
   "id": "fb47bf0a",
   "metadata": {
    "execution": {
     "iopub.execute_input": "2022-03-10T14:52:40.443927Z",
     "iopub.status.busy": "2022-03-10T14:52:40.443289Z",
     "iopub.status.idle": "2022-03-10T14:52:40.455022Z",
     "shell.execute_reply": "2022-03-10T14:52:40.454394Z",
     "shell.execute_reply.started": "2022-03-05T03:57:16.039205Z"
    },
    "papermill": {
     "duration": 0.098589,
     "end_time": "2022-03-10T14:52:40.455162",
     "exception": false,
     "start_time": "2022-03-10T14:52:40.356573",
     "status": "completed"
    },
    "tags": []
   },
   "outputs": [
    {
     "data": {
      "text/html": [
       "<div>\n",
       "<style scoped>\n",
       "    .dataframe tbody tr th:only-of-type {\n",
       "        vertical-align: middle;\n",
       "    }\n",
       "\n",
       "    .dataframe tbody tr th {\n",
       "        vertical-align: top;\n",
       "    }\n",
       "\n",
       "    .dataframe thead th {\n",
       "        text-align: right;\n",
       "    }\n",
       "</style>\n",
       "<table border=\"1\" class=\"dataframe\">\n",
       "  <thead>\n",
       "    <tr style=\"text-align: right;\">\n",
       "      <th></th>\n",
       "      <th>PassengerId</th>\n",
       "      <th>Pclass</th>\n",
       "      <th>Survived</th>\n",
       "    </tr>\n",
       "  </thead>\n",
       "  <tbody>\n",
       "    <tr>\n",
       "      <th>0</th>\n",
       "      <td>1</td>\n",
       "      <td>3</td>\n",
       "      <td>0</td>\n",
       "    </tr>\n",
       "    <tr>\n",
       "      <th>1</th>\n",
       "      <td>2</td>\n",
       "      <td>1</td>\n",
       "      <td>1</td>\n",
       "    </tr>\n",
       "    <tr>\n",
       "      <th>2</th>\n",
       "      <td>3</td>\n",
       "      <td>3</td>\n",
       "      <td>1</td>\n",
       "    </tr>\n",
       "    <tr>\n",
       "      <th>3</th>\n",
       "      <td>4</td>\n",
       "      <td>1</td>\n",
       "      <td>1</td>\n",
       "    </tr>\n",
       "    <tr>\n",
       "      <th>4</th>\n",
       "      <td>5</td>\n",
       "      <td>3</td>\n",
       "      <td>0</td>\n",
       "    </tr>\n",
       "  </tbody>\n",
       "</table>\n",
       "</div>"
      ],
      "text/plain": [
       "   PassengerId  Pclass  Survived\n",
       "0            1       3         0\n",
       "1            2       1         1\n",
       "2            3       3         1\n",
       "3            4       1         1\n",
       "4            5       3         0"
      ]
     },
     "execution_count": 10,
     "metadata": {},
     "output_type": "execute_result"
    }
   ],
   "source": [
    "MLTrain[\"PassengerId\"]=train[\"PassengerId\"]\n",
    "MLTrain[\"Pclass\"]=train[\"Pclass\"]\n",
    "MLTrain[\"Survived\"]=train[\"Survived\"]\n",
    "\n",
    "MLTrain.head()"
   ]
  },
  {
   "cell_type": "markdown",
   "id": "895d3be1",
   "metadata": {
    "papermill": {
     "duration": 0.084533,
     "end_time": "2022-03-10T14:52:40.624974",
     "exception": false,
     "start_time": "2022-03-10T14:52:40.540441",
     "status": "completed"
    },
    "tags": []
   },
   "source": []
  },
  {
   "cell_type": "markdown",
   "id": "926e1ca0",
   "metadata": {
    "papermill": {
     "duration": 0.086276,
     "end_time": "2022-03-10T14:52:40.795567",
     "exception": false,
     "start_time": "2022-03-10T14:52:40.709291",
     "status": "completed"
    },
    "tags": []
   },
   "source": [
    "# Name "
   ]
  },
  {
   "cell_type": "code",
   "execution_count": 11,
   "id": "74bee4fe",
   "metadata": {
    "execution": {
     "iopub.execute_input": "2022-03-10T14:52:40.970496Z",
     "iopub.status.busy": "2022-03-10T14:52:40.969839Z",
     "iopub.status.idle": "2022-03-10T14:52:40.975752Z",
     "shell.execute_reply": "2022-03-10T14:52:40.976340Z",
     "shell.execute_reply.started": "2022-03-05T03:57:16.056305Z"
    },
    "papermill": {
     "duration": 0.094799,
     "end_time": "2022-03-10T14:52:40.976513",
     "exception": false,
     "start_time": "2022-03-10T14:52:40.881714",
     "status": "completed"
    },
    "tags": []
   },
   "outputs": [
    {
     "data": {
      "text/plain": [
       "0                              Braund, Mr. Owen Harris\n",
       "1    Cumings, Mrs. John Bradley (Florence Briggs Th...\n",
       "2                               Heikkinen, Miss. Laina\n",
       "3         Futrelle, Mrs. Jacques Heath (Lily May Peel)\n",
       "4                             Allen, Mr. William Henry\n",
       "Name: Name, dtype: object"
      ]
     },
     "execution_count": 11,
     "metadata": {},
     "output_type": "execute_result"
    }
   ],
   "source": [
    "train[\"Name\"].head()"
   ]
  },
  {
   "cell_type": "code",
   "execution_count": 12,
   "id": "58664536",
   "metadata": {
    "execution": {
     "iopub.execute_input": "2022-03-10T14:52:41.149809Z",
     "iopub.status.busy": "2022-03-10T14:52:41.149186Z",
     "iopub.status.idle": "2022-03-10T14:52:41.224041Z",
     "shell.execute_reply": "2022-03-10T14:52:41.223411Z",
     "shell.execute_reply.started": "2022-03-05T03:57:16.070022Z"
    },
    "papermill": {
     "duration": 0.162462,
     "end_time": "2022-03-10T14:52:41.224195",
     "exception": false,
     "start_time": "2022-03-10T14:52:41.061733",
     "status": "completed"
    },
    "tags": []
   },
   "outputs": [
    {
     "data": {
      "text/html": [
       "<div>\n",
       "<style scoped>\n",
       "    .dataframe tbody tr th:only-of-type {\n",
       "        vertical-align: middle;\n",
       "    }\n",
       "\n",
       "    .dataframe tbody tr th {\n",
       "        vertical-align: top;\n",
       "    }\n",
       "\n",
       "    .dataframe thead th {\n",
       "        text-align: right;\n",
       "    }\n",
       "</style>\n",
       "<table border=\"1\" class=\"dataframe\">\n",
       "  <thead>\n",
       "    <tr style=\"text-align: right;\">\n",
       "      <th></th>\n",
       "      <th>PassengerId</th>\n",
       "      <th>Survived</th>\n",
       "      <th>Pclass</th>\n",
       "      <th>Name</th>\n",
       "      <th>Sex</th>\n",
       "      <th>Age</th>\n",
       "      <th>SibSp</th>\n",
       "      <th>Parch</th>\n",
       "      <th>Ticket</th>\n",
       "      <th>Fare</th>\n",
       "      <th>Cabin</th>\n",
       "      <th>Embarked</th>\n",
       "      <th>LastName</th>\n",
       "      <th>repeat</th>\n",
       "    </tr>\n",
       "  </thead>\n",
       "  <tbody>\n",
       "    <tr>\n",
       "      <th>0</th>\n",
       "      <td>1</td>\n",
       "      <td>0</td>\n",
       "      <td>3</td>\n",
       "      <td>Braund, Mr. Owen Harris</td>\n",
       "      <td>male</td>\n",
       "      <td>22.0</td>\n",
       "      <td>1</td>\n",
       "      <td>0</td>\n",
       "      <td>A/5 21171</td>\n",
       "      <td>7.2500</td>\n",
       "      <td>NaN</td>\n",
       "      <td>S</td>\n",
       "      <td>Braund</td>\n",
       "      <td>True</td>\n",
       "    </tr>\n",
       "    <tr>\n",
       "      <th>1</th>\n",
       "      <td>2</td>\n",
       "      <td>1</td>\n",
       "      <td>1</td>\n",
       "      <td>Cumings, Mrs. John Bradley (Florence Briggs Th...</td>\n",
       "      <td>female</td>\n",
       "      <td>38.0</td>\n",
       "      <td>1</td>\n",
       "      <td>0</td>\n",
       "      <td>PC 17599</td>\n",
       "      <td>71.2833</td>\n",
       "      <td>C85</td>\n",
       "      <td>C</td>\n",
       "      <td>Cumings</td>\n",
       "      <td>False</td>\n",
       "    </tr>\n",
       "    <tr>\n",
       "      <th>2</th>\n",
       "      <td>3</td>\n",
       "      <td>1</td>\n",
       "      <td>3</td>\n",
       "      <td>Heikkinen, Miss. Laina</td>\n",
       "      <td>female</td>\n",
       "      <td>26.0</td>\n",
       "      <td>0</td>\n",
       "      <td>0</td>\n",
       "      <td>STON/O2. 3101282</td>\n",
       "      <td>7.9250</td>\n",
       "      <td>NaN</td>\n",
       "      <td>S</td>\n",
       "      <td>Heikkinen</td>\n",
       "      <td>False</td>\n",
       "    </tr>\n",
       "    <tr>\n",
       "      <th>3</th>\n",
       "      <td>4</td>\n",
       "      <td>1</td>\n",
       "      <td>1</td>\n",
       "      <td>Futrelle, Mrs. Jacques Heath (Lily May Peel)</td>\n",
       "      <td>female</td>\n",
       "      <td>35.0</td>\n",
       "      <td>1</td>\n",
       "      <td>0</td>\n",
       "      <td>113803</td>\n",
       "      <td>53.1000</td>\n",
       "      <td>C123</td>\n",
       "      <td>S</td>\n",
       "      <td>Futrelle</td>\n",
       "      <td>True</td>\n",
       "    </tr>\n",
       "    <tr>\n",
       "      <th>4</th>\n",
       "      <td>5</td>\n",
       "      <td>0</td>\n",
       "      <td>3</td>\n",
       "      <td>Allen, Mr. William Henry</td>\n",
       "      <td>male</td>\n",
       "      <td>35.0</td>\n",
       "      <td>0</td>\n",
       "      <td>0</td>\n",
       "      <td>373450</td>\n",
       "      <td>8.0500</td>\n",
       "      <td>NaN</td>\n",
       "      <td>S</td>\n",
       "      <td>Allen</td>\n",
       "      <td>True</td>\n",
       "    </tr>\n",
       "  </tbody>\n",
       "</table>\n",
       "</div>"
      ],
      "text/plain": [
       "   PassengerId  Survived  Pclass  \\\n",
       "0            1         0       3   \n",
       "1            2         1       1   \n",
       "2            3         1       3   \n",
       "3            4         1       1   \n",
       "4            5         0       3   \n",
       "\n",
       "                                                Name     Sex   Age  SibSp  \\\n",
       "0                            Braund, Mr. Owen Harris    male  22.0      1   \n",
       "1  Cumings, Mrs. John Bradley (Florence Briggs Th...  female  38.0      1   \n",
       "2                             Heikkinen, Miss. Laina  female  26.0      0   \n",
       "3       Futrelle, Mrs. Jacques Heath (Lily May Peel)  female  35.0      1   \n",
       "4                           Allen, Mr. William Henry    male  35.0      0   \n",
       "\n",
       "   Parch            Ticket     Fare Cabin Embarked   LastName  repeat  \n",
       "0      0         A/5 21171   7.2500   NaN        S     Braund    True  \n",
       "1      0          PC 17599  71.2833   C85        C    Cumings   False  \n",
       "2      0  STON/O2. 3101282   7.9250   NaN        S  Heikkinen   False  \n",
       "3      0            113803  53.1000  C123        S   Futrelle    True  \n",
       "4      0            373450   8.0500   NaN        S      Allen    True  "
      ]
     },
     "execution_count": 12,
     "metadata": {},
     "output_type": "execute_result"
    }
   ],
   "source": [
    "train[\"LastName\"]=train[\"Name\"].str.split(',').str[0]\n",
    "train[\"repeat\"]=0\n",
    "#train[\"repeat\"].loc[ train[\"LastName\"].is_unique()]=1\n",
    "train['repeat'] = train.groupby('LastName')['repeat'].transform(lambda x: 1 if x.unique == 0 else x)\n",
    "train['LastName'].value_counts()\n",
    "train['repeat'] = train['LastName'].duplicated(keep=False)\n",
    "train.head()"
   ]
  },
  {
   "cell_type": "code",
   "execution_count": 13,
   "id": "56059490",
   "metadata": {
    "execution": {
     "iopub.execute_input": "2022-03-10T14:52:41.406376Z",
     "iopub.status.busy": "2022-03-10T14:52:41.405327Z",
     "iopub.status.idle": "2022-03-10T14:52:41.692196Z",
     "shell.execute_reply": "2022-03-10T14:52:41.691634Z",
     "shell.execute_reply.started": "2022-03-05T03:57:16.163964Z"
    },
    "papermill": {
     "duration": 0.381335,
     "end_time": "2022-03-10T14:52:41.692346",
     "exception": false,
     "start_time": "2022-03-10T14:52:41.311011",
     "status": "completed"
    },
    "tags": []
   },
   "outputs": [
    {
     "name": "stderr",
     "output_type": "stream",
     "text": [
      "/opt/conda/lib/python3.7/site-packages/seaborn/distributions.py:2619: FutureWarning: `distplot` is a deprecated function and will be removed in a future version. Please adapt your code to use either `displot` (a figure-level function with similar flexibility) or `histplot` (an axes-level function for histograms).\n",
      "  warnings.warn(msg, FutureWarning)\n",
      "/opt/conda/lib/python3.7/site-packages/seaborn/distributions.py:2619: FutureWarning: `distplot` is a deprecated function and will be removed in a future version. Please adapt your code to use either `displot` (a figure-level function with similar flexibility) or `histplot` (an axes-level function for histograms).\n",
      "  warnings.warn(msg, FutureWarning)\n"
     ]
    },
    {
     "data": {
      "image/png": "[encoded data removed]",
      "text/plain": [
       "<Figure size 720x720 with 1 Axes>"
      ]
     },
     "metadata": {
      "needs_background": "light"
     },
     "output_type": "display_data"
    }
   ],
   "source": [
    "fig = plt.figure(figsize=(10, 10))\n",
    "sns.distplot(train.loc[train['Survived'] == 1]['repeat'],  kde_kws={'label': 'Survived'});\n",
    "sns.distplot(train.loc[train['Survived'] == 0]['repeat'], kde_kws={'label': 'Did not survive'}, hist_kws={ \"linewidth\": 3});"
   ]
  },
  {
   "cell_type": "code",
   "execution_count": 14,
   "id": "217704b7",
   "metadata": {
    "execution": {
     "iopub.execute_input": "2022-03-10T14:52:41.884373Z",
     "iopub.status.busy": "2022-03-10T14:52:41.883672Z",
     "iopub.status.idle": "2022-03-10T14:52:41.886405Z",
     "shell.execute_reply": "2022-03-10T14:52:41.886902Z",
     "shell.execute_reply.started": "2022-03-05T03:57:16.426444Z"
    },
    "papermill": {
     "duration": 0.104422,
     "end_time": "2022-03-10T14:52:41.887065",
     "exception": false,
     "start_time": "2022-03-10T14:52:41.782643",
     "status": "completed"
    },
    "tags": []
   },
   "outputs": [
    {
     "data": {
      "text/html": [
       "<div>\n",
       "<style scoped>\n",
       "    .dataframe tbody tr th:only-of-type {\n",
       "        vertical-align: middle;\n",
       "    }\n",
       "\n",
       "    .dataframe tbody tr th {\n",
       "        vertical-align: top;\n",
       "    }\n",
       "\n",
       "    .dataframe thead th {\n",
       "        text-align: right;\n",
       "    }\n",
       "</style>\n",
       "<table border=\"1\" class=\"dataframe\">\n",
       "  <thead>\n",
       "    <tr style=\"text-align: right;\">\n",
       "      <th></th>\n",
       "      <th>PassengerId</th>\n",
       "      <th>Pclass</th>\n",
       "      <th>Survived</th>\n",
       "      <th>LastName_repeat</th>\n",
       "    </tr>\n",
       "  </thead>\n",
       "  <tbody>\n",
       "    <tr>\n",
       "      <th>0</th>\n",
       "      <td>1</td>\n",
       "      <td>3</td>\n",
       "      <td>0</td>\n",
       "      <td>1</td>\n",
       "    </tr>\n",
       "    <tr>\n",
       "      <th>1</th>\n",
       "      <td>2</td>\n",
       "      <td>1</td>\n",
       "      <td>1</td>\n",
       "      <td>0</td>\n",
       "    </tr>\n",
       "    <tr>\n",
       "      <th>2</th>\n",
       "      <td>3</td>\n",
       "      <td>3</td>\n",
       "      <td>1</td>\n",
       "      <td>0</td>\n",
       "    </tr>\n",
       "    <tr>\n",
       "      <th>3</th>\n",
       "      <td>4</td>\n",
       "      <td>1</td>\n",
       "      <td>1</td>\n",
       "      <td>1</td>\n",
       "    </tr>\n",
       "    <tr>\n",
       "      <th>4</th>\n",
       "      <td>5</td>\n",
       "      <td>3</td>\n",
       "      <td>0</td>\n",
       "      <td>1</td>\n",
       "    </tr>\n",
       "    <tr>\n",
       "      <th>5</th>\n",
       "      <td>6</td>\n",
       "      <td>3</td>\n",
       "      <td>0</td>\n",
       "      <td>1</td>\n",
       "    </tr>\n",
       "    <tr>\n",
       "      <th>6</th>\n",
       "      <td>7</td>\n",
       "      <td>1</td>\n",
       "      <td>0</td>\n",
       "      <td>0</td>\n",
       "    </tr>\n",
       "    <tr>\n",
       "      <th>7</th>\n",
       "      <td>8</td>\n",
       "      <td>3</td>\n",
       "      <td>0</td>\n",
       "      <td>1</td>\n",
       "    </tr>\n",
       "    <tr>\n",
       "      <th>8</th>\n",
       "      <td>9</td>\n",
       "      <td>3</td>\n",
       "      <td>1</td>\n",
       "      <td>1</td>\n",
       "    </tr>\n",
       "    <tr>\n",
       "      <th>9</th>\n",
       "      <td>10</td>\n",
       "      <td>2</td>\n",
       "      <td>1</td>\n",
       "      <td>1</td>\n",
       "    </tr>\n",
       "    <tr>\n",
       "      <th>10</th>\n",
       "      <td>11</td>\n",
       "      <td>3</td>\n",
       "      <td>1</td>\n",
       "      <td>1</td>\n",
       "    </tr>\n",
       "    <tr>\n",
       "      <th>11</th>\n",
       "      <td>12</td>\n",
       "      <td>1</td>\n",
       "      <td>1</td>\n",
       "      <td>0</td>\n",
       "    </tr>\n",
       "    <tr>\n",
       "      <th>12</th>\n",
       "      <td>13</td>\n",
       "      <td>3</td>\n",
       "      <td>0</td>\n",
       "      <td>0</td>\n",
       "    </tr>\n",
       "    <tr>\n",
       "      <th>13</th>\n",
       "      <td>14</td>\n",
       "      <td>3</td>\n",
       "      <td>0</td>\n",
       "      <td>1</td>\n",
       "    </tr>\n",
       "    <tr>\n",
       "      <th>14</th>\n",
       "      <td>15</td>\n",
       "      <td>3</td>\n",
       "      <td>0</td>\n",
       "      <td>0</td>\n",
       "    </tr>\n",
       "    <tr>\n",
       "      <th>15</th>\n",
       "      <td>16</td>\n",
       "      <td>2</td>\n",
       "      <td>1</td>\n",
       "      <td>0</td>\n",
       "    </tr>\n",
       "    <tr>\n",
       "      <th>16</th>\n",
       "      <td>17</td>\n",
       "      <td>3</td>\n",
       "      <td>0</td>\n",
       "      <td>1</td>\n",
       "    </tr>\n",
       "    <tr>\n",
       "      <th>17</th>\n",
       "      <td>18</td>\n",
       "      <td>2</td>\n",
       "      <td>1</td>\n",
       "      <td>1</td>\n",
       "    </tr>\n",
       "    <tr>\n",
       "      <th>18</th>\n",
       "      <td>19</td>\n",
       "      <td>3</td>\n",
       "      <td>0</td>\n",
       "      <td>1</td>\n",
       "    </tr>\n",
       "    <tr>\n",
       "      <th>19</th>\n",
       "      <td>20</td>\n",
       "      <td>3</td>\n",
       "      <td>1</td>\n",
       "      <td>0</td>\n",
       "    </tr>\n",
       "  </tbody>\n",
       "</table>\n",
       "</div>"
      ],
      "text/plain": [
       "    PassengerId  Pclass  Survived  LastName_repeat\n",
       "0             1       3         0                1\n",
       "1             2       1         1                0\n",
       "2             3       3         1                0\n",
       "3             4       1         1                1\n",
       "4             5       3         0                1\n",
       "5             6       3         0                1\n",
       "6             7       1         0                0\n",
       "7             8       3         0                1\n",
       "8             9       3         1                1\n",
       "9            10       2         1                1\n",
       "10           11       3         1                1\n",
       "11           12       1         1                0\n",
       "12           13       3         0                0\n",
       "13           14       3         0                1\n",
       "14           15       3         0                0\n",
       "15           16       2         1                0\n",
       "16           17       3         0                1\n",
       "17           18       2         1                1\n",
       "18           19       3         0                1\n",
       "19           20       3         1                0"
      ]
     },
     "execution_count": 14,
     "metadata": {},
     "output_type": "execute_result"
    }
   ],
   "source": [
    "\n",
    "MLTrain[\"LastName_repeat\"]=train['repeat']\n",
    "MLTrain[\"LastName_repeat\"] = MLTrain[\"LastName_repeat\"].astype(int)\n",
    "MLTrain.head(20)\n"
   ]
  },
  {
   "cell_type": "markdown",
   "id": "e3de3c05",
   "metadata": {
    "papermill": {
     "duration": 0.091128,
     "end_time": "2022-03-10T14:52:42.068396",
     "exception": false,
     "start_time": "2022-03-10T14:52:41.977268",
     "status": "completed"
    },
    "tags": []
   },
   "source": [
    "# Sex\n"
   ]
  },
  {
   "cell_type": "code",
   "execution_count": 15,
   "id": "1a1b6edd",
   "metadata": {
    "execution": {
     "iopub.execute_input": "2022-03-10T14:52:42.257510Z",
     "iopub.status.busy": "2022-03-10T14:52:42.256795Z",
     "iopub.status.idle": "2022-03-10T14:52:42.282492Z",
     "shell.execute_reply": "2022-03-10T14:52:42.283044Z",
     "shell.execute_reply.started": "2022-03-05T03:57:16.443928Z"
    },
    "papermill": {
     "duration": 0.123885,
     "end_time": "2022-03-10T14:52:42.283224",
     "exception": false,
     "start_time": "2022-03-10T14:52:42.159339",
     "status": "completed"
    },
    "tags": []
   },
   "outputs": [
    {
     "name": "stdout",
     "output_type": "stream",
     "text": [
      "   PassengerId  Survived  Pclass  \\\n",
      "0            1         0       3   \n",
      "1            2         1       1   \n",
      "2            3         1       3   \n",
      "3            4         1       1   \n",
      "4            5         0       3   \n",
      "\n",
      "                                                Name     Sex   Age  SibSp  \\\n",
      "0                            Braund, Mr. Owen Harris    male  22.0      1   \n",
      "1  Cumings, Mrs. John Bradley (Florence Briggs Th...  female  38.0      1   \n",
      "2                             Heikkinen, Miss. Laina  female  26.0      0   \n",
      "3       Futrelle, Mrs. Jacques Heath (Lily May Peel)  female  35.0      1   \n",
      "4                           Allen, Mr. William Henry    male  35.0      0   \n",
      "\n",
      "   Parch            Ticket     Fare Cabin Embarked   LastName  repeat  \n",
      "0      0         A/5 21171   7.2500   NaN        S     Braund    True  \n",
      "1      0          PC 17599  71.2833   C85        C    Cumings   False  \n",
      "2      0  STON/O2. 3101282   7.9250   NaN        S  Heikkinen   False  \n",
      "3      0            113803  53.1000  C123        S   Futrelle    True  \n",
      "4      0            373450   8.0500   NaN        S      Allen    True  \n"
     ]
    },
    {
     "name": "stderr",
     "output_type": "stream",
     "text": [
      "/opt/conda/lib/python3.7/site-packages/ipykernel_launcher.py:2: SettingWithCopyWarning: \n",
      "A value is trying to be set on a copy of a slice from a DataFrame\n",
      "\n",
      "See the caveats in the documentation: https://pandas.pydata.org/pandas-docs/stable/user_guide/indexing.html#returning-a-view-versus-a-copy\n",
      "  \n",
      "/opt/conda/lib/python3.7/site-packages/ipykernel_launcher.py:3: SettingWithCopyWarning: \n",
      "A value is trying to be set on a copy of a slice from a DataFrame\n",
      "\n",
      "See the caveats in the documentation: https://pandas.pydata.org/pandas-docs/stable/user_guide/indexing.html#returning-a-view-versus-a-copy\n",
      "  This is separate from the ipykernel package so we can avoid doing imports until\n"
     ]
    },
    {
     "data": {
      "text/html": [
       "<div>\n",
       "<style scoped>\n",
       "    .dataframe tbody tr th:only-of-type {\n",
       "        vertical-align: middle;\n",
       "    }\n",
       "\n",
       "    .dataframe tbody tr th {\n",
       "        vertical-align: top;\n",
       "    }\n",
       "\n",
       "    .dataframe thead th {\n",
       "        text-align: right;\n",
       "    }\n",
       "</style>\n",
       "<table border=\"1\" class=\"dataframe\">\n",
       "  <thead>\n",
       "    <tr style=\"text-align: right;\">\n",
       "      <th></th>\n",
       "      <th>PassengerId</th>\n",
       "      <th>Survived</th>\n",
       "      <th>Pclass</th>\n",
       "      <th>Name</th>\n",
       "      <th>Sex</th>\n",
       "      <th>Age</th>\n",
       "      <th>SibSp</th>\n",
       "      <th>Parch</th>\n",
       "      <th>Ticket</th>\n",
       "      <th>Fare</th>\n",
       "      <th>Cabin</th>\n",
       "      <th>Embarked</th>\n",
       "      <th>LastName</th>\n",
       "      <th>repeat</th>\n",
       "    </tr>\n",
       "  </thead>\n",
       "  <tbody>\n",
       "    <tr>\n",
       "      <th>0</th>\n",
       "      <td>1</td>\n",
       "      <td>0</td>\n",
       "      <td>3</td>\n",
       "      <td>Braund, Mr. Owen Harris</td>\n",
       "      <td>1</td>\n",
       "      <td>22.0</td>\n",
       "      <td>1</td>\n",
       "      <td>0</td>\n",
       "      <td>A/5 21171</td>\n",
       "      <td>7.2500</td>\n",
       "      <td>NaN</td>\n",
       "      <td>S</td>\n",
       "      <td>Braund</td>\n",
       "      <td>True</td>\n",
       "    </tr>\n",
       "    <tr>\n",
       "      <th>1</th>\n",
       "      <td>2</td>\n",
       "      <td>1</td>\n",
       "      <td>1</td>\n",
       "      <td>Cumings, Mrs. John Bradley (Florence Briggs Th...</td>\n",
       "      <td>0</td>\n",
       "      <td>38.0</td>\n",
       "      <td>1</td>\n",
       "      <td>0</td>\n",
       "      <td>PC 17599</td>\n",
       "      <td>71.2833</td>\n",
       "      <td>C85</td>\n",
       "      <td>C</td>\n",
       "      <td>Cumings</td>\n",
       "      <td>False</td>\n",
       "    </tr>\n",
       "    <tr>\n",
       "      <th>2</th>\n",
       "      <td>3</td>\n",
       "      <td>1</td>\n",
       "      <td>3</td>\n",
       "      <td>Heikkinen, Miss. Laina</td>\n",
       "      <td>0</td>\n",
       "      <td>26.0</td>\n",
       "      <td>0</td>\n",
       "      <td>0</td>\n",
       "      <td>STON/O2. 3101282</td>\n",
       "      <td>7.9250</td>\n",
       "      <td>NaN</td>\n",
       "      <td>S</td>\n",
       "      <td>Heikkinen</td>\n",
       "      <td>False</td>\n",
       "    </tr>\n",
       "    <tr>\n",
       "      <th>3</th>\n",
       "      <td>4</td>\n",
       "      <td>1</td>\n",
       "      <td>1</td>\n",
       "      <td>Futrelle, Mrs. Jacques Heath (Lily May Peel)</td>\n",
       "      <td>0</td>\n",
       "      <td>35.0</td>\n",
       "      <td>1</td>\n",
       "      <td>0</td>\n",
       "      <td>113803</td>\n",
       "      <td>53.1000</td>\n",
       "      <td>C123</td>\n",
       "      <td>S</td>\n",
       "      <td>Futrelle</td>\n",
       "      <td>True</td>\n",
       "    </tr>\n",
       "    <tr>\n",
       "      <th>4</th>\n",
       "      <td>5</td>\n",
       "      <td>0</td>\n",
       "      <td>3</td>\n",
       "      <td>Allen, Mr. William Henry</td>\n",
       "      <td>1</td>\n",
       "      <td>35.0</td>\n",
       "      <td>0</td>\n",
       "      <td>0</td>\n",
       "      <td>373450</td>\n",
       "      <td>8.0500</td>\n",
       "      <td>NaN</td>\n",
       "      <td>S</td>\n",
       "      <td>Allen</td>\n",
       "      <td>True</td>\n",
       "    </tr>\n",
       "  </tbody>\n",
       "</table>\n",
       "</div>"
      ],
      "text/plain": [
       "   PassengerId  Survived  Pclass  \\\n",
       "0            1         0       3   \n",
       "1            2         1       1   \n",
       "2            3         1       3   \n",
       "3            4         1       1   \n",
       "4            5         0       3   \n",
       "\n",
       "                                                Name Sex   Age  SibSp  Parch  \\\n",
       "0                            Braund, Mr. Owen Harris   1  22.0      1      0   \n",
       "1  Cumings, Mrs. John Bradley (Florence Briggs Th...   0  38.0      1      0   \n",
       "2                             Heikkinen, Miss. Laina   0  26.0      0      0   \n",
       "3       Futrelle, Mrs. Jacques Heath (Lily May Peel)   0  35.0      1      0   \n",
       "4                           Allen, Mr. William Henry   1  35.0      0      0   \n",
       "\n",
       "             Ticket     Fare Cabin Embarked   LastName  repeat  \n",
       "0         A/5 21171   7.2500   NaN        S     Braund    True  \n",
       "1          PC 17599  71.2833   C85        C    Cumings   False  \n",
       "2  STON/O2. 3101282   7.9250   NaN        S  Heikkinen   False  \n",
       "3            113803  53.1000  C123        S   Futrelle    True  \n",
       "4            373450   8.0500   NaN        S      Allen    True  "
      ]
     },
     "execution_count": 15,
     "metadata": {},
     "output_type": "execute_result"
    }
   ],
   "source": [
    "print(train.head())\n",
    "train.Sex[train.Sex == 'male'] = 1\n",
    "train.Sex[train.Sex == 'female'] = 0\n",
    "train.head()\n",
    "\n",
    "#sns.distplot(train.loc[train['Survived'] == 1]['Sex'],  kde_kws={'label': 'Survived'});\n",
    "#sns.distplot(train.loc[train['Survived'] == 0]['Sex'], kde_kws={'label': 'Did not survive'}, hist_kws={ \"linewidth\": 3});"
   ]
  },
  {
   "cell_type": "code",
   "execution_count": 16,
   "id": "0bd33414",
   "metadata": {
    "execution": {
     "iopub.execute_input": "2022-03-10T14:52:42.490217Z",
     "iopub.status.busy": "2022-03-10T14:52:42.488701Z",
     "iopub.status.idle": "2022-03-10T14:52:42.793369Z",
     "shell.execute_reply": "2022-03-10T14:52:42.793873Z",
     "shell.execute_reply.started": "2022-03-05T03:57:16.500362Z"
    },
    "papermill": {
     "duration": 0.419338,
     "end_time": "2022-03-10T14:52:42.794057",
     "exception": false,
     "start_time": "2022-03-10T14:52:42.374719",
     "status": "completed"
    },
    "tags": []
   },
   "outputs": [
    {
     "name": "stderr",
     "output_type": "stream",
     "text": [
      "/opt/conda/lib/python3.7/site-packages/seaborn/distributions.py:2619: FutureWarning: `distplot` is a deprecated function and will be removed in a future version. Please adapt your code to use either `displot` (a figure-level function with similar flexibility) or `histplot` (an axes-level function for histograms).\n",
      "  warnings.warn(msg, FutureWarning)\n",
      "/opt/conda/lib/python3.7/site-packages/seaborn/distributions.py:2619: FutureWarning: `distplot` is a deprecated function and will be removed in a future version. Please adapt your code to use either `displot` (a figure-level function with similar flexibility) or `histplot` (an axes-level function for histograms).\n",
      "  warnings.warn(msg, FutureWarning)\n"
     ]
    },
    {
     "data": {
      "image/png": "[encoded data removed]",
      "text/plain": [
       "<Figure size 720x720 with 1 Axes>"
      ]
     },
     "metadata": {
      "needs_background": "light"
     },
     "output_type": "display_data"
    }
   ],
   "source": [
    "fig = plt.figure(figsize=(10, 10))\n",
    "sns.distplot(train.loc[train['Survived'] == 1]['Sex'],  kde_kws={'label': 'Survived'});\n",
    "sns.distplot(train.loc[train['Survived'] == 0]['Sex'], kde_kws={'label': 'Did not survive'}, hist_kws={ \"linewidth\": 3});"
   ]
  },
  {
   "cell_type": "markdown",
   "id": "96d47f53",
   "metadata": {
    "papermill": {
     "duration": 0.092489,
     "end_time": "2022-03-10T14:52:42.979426",
     "exception": false,
     "start_time": "2022-03-10T14:52:42.886937",
     "status": "completed"
    },
    "tags": []
   },
   "source": [
    "male had higher chance of death than female "
   ]
  },
  {
   "cell_type": "code",
   "execution_count": 17,
   "id": "53e11e04",
   "metadata": {
    "execution": {
     "iopub.execute_input": "2022-03-10T14:52:43.168790Z",
     "iopub.status.busy": "2022-03-10T14:52:43.168112Z",
     "iopub.status.idle": "2022-03-10T14:52:43.172232Z",
     "shell.execute_reply": "2022-03-10T14:52:43.172798Z",
     "shell.execute_reply.started": "2022-03-05T03:57:16.806273Z"
    },
    "papermill": {
     "duration": 0.100468,
     "end_time": "2022-03-10T14:52:43.172962",
     "exception": false,
     "start_time": "2022-03-10T14:52:43.072494",
     "status": "completed"
    },
    "tags": []
   },
   "outputs": [],
   "source": [
    "MLTrain[\"Sex\"]=train['Sex']\n"
   ]
  },
  {
   "cell_type": "markdown",
   "id": "963c742c",
   "metadata": {
    "papermill": {
     "duration": 0.092713,
     "end_time": "2022-03-10T14:52:43.357445",
     "exception": false,
     "start_time": "2022-03-10T14:52:43.264732",
     "status": "completed"
    },
    "tags": []
   },
   "source": [
    "# Age\n"
   ]
  },
  {
   "cell_type": "code",
   "execution_count": 18,
   "id": "a3da89a3",
   "metadata": {
    "execution": {
     "iopub.execute_input": "2022-03-10T14:52:43.544550Z",
     "iopub.status.busy": "2022-03-10T14:52:43.543918Z",
     "iopub.status.idle": "2022-03-10T14:52:43.549538Z",
     "shell.execute_reply": "2022-03-10T14:52:43.550156Z",
     "shell.execute_reply.started": "2022-03-05T03:57:16.816748Z"
    },
    "papermill": {
     "duration": 0.101191,
     "end_time": "2022-03-10T14:52:43.550333",
     "exception": false,
     "start_time": "2022-03-10T14:52:43.449142",
     "status": "completed"
    },
    "tags": []
   },
   "outputs": [
    {
     "data": {
      "text/plain": [
       "177"
      ]
     },
     "execution_count": 18,
     "metadata": {},
     "output_type": "execute_result"
    }
   ],
   "source": [
    "pd.set_option(\"display.max_rows\", 20, \"display.max_columns\", None)\n",
    "train['Age'].isna().sum()\n",
    " "
   ]
  },
  {
   "cell_type": "code",
   "execution_count": 19,
   "id": "eac1921b",
   "metadata": {
    "execution": {
     "iopub.execute_input": "2022-03-10T14:52:43.739758Z",
     "iopub.status.busy": "2022-03-10T14:52:43.739130Z",
     "iopub.status.idle": "2022-03-10T14:52:43.770790Z",
     "shell.execute_reply": "2022-03-10T14:52:43.771338Z",
     "shell.execute_reply.started": "2022-03-05T03:57:16.828241Z"
    },
    "papermill": {
     "duration": 0.126768,
     "end_time": "2022-03-10T14:52:43.771509",
     "exception": false,
     "start_time": "2022-03-10T14:52:43.644741",
     "status": "completed"
    },
    "tags": []
   },
   "outputs": [
    {
     "name": "stdout",
     "output_type": "stream",
     "text": [
      "177\n",
      "86\n"
     ]
    },
    {
     "data": {
      "text/html": [
       "<div>\n",
       "<style scoped>\n",
       "    .dataframe tbody tr th:only-of-type {\n",
       "        vertical-align: middle;\n",
       "    }\n",
       "\n",
       "    .dataframe tbody tr th {\n",
       "        vertical-align: top;\n",
       "    }\n",
       "\n",
       "    .dataframe thead th {\n",
       "        text-align: right;\n",
       "    }\n",
       "</style>\n",
       "<table border=\"1\" class=\"dataframe\">\n",
       "  <thead>\n",
       "    <tr style=\"text-align: right;\">\n",
       "      <th></th>\n",
       "      <th></th>\n",
       "      <th></th>\n",
       "      <th>mean</th>\n",
       "      <th>median</th>\n",
       "      <th>count</th>\n",
       "    </tr>\n",
       "    <tr>\n",
       "      <th>Pclass</th>\n",
       "      <th>Sex</th>\n",
       "      <th>Title</th>\n",
       "      <th></th>\n",
       "      <th></th>\n",
       "      <th></th>\n",
       "    </tr>\n",
       "  </thead>\n",
       "  <tbody>\n",
       "    <tr>\n",
       "      <th rowspan=\"16\" valign=\"top\">1</th>\n",
       "      <th rowspan=\"7\" valign=\"top\">0</th>\n",
       "      <th>Countess</th>\n",
       "      <td>33.000000</td>\n",
       "      <td>33.0</td>\n",
       "      <td>1</td>\n",
       "    </tr>\n",
       "    <tr>\n",
       "      <th>Dr</th>\n",
       "      <td>49.000000</td>\n",
       "      <td>49.0</td>\n",
       "      <td>1</td>\n",
       "    </tr>\n",
       "    <tr>\n",
       "      <th>Lady</th>\n",
       "      <td>48.000000</td>\n",
       "      <td>48.0</td>\n",
       "      <td>1</td>\n",
       "    </tr>\n",
       "    <tr>\n",
       "      <th>Miss</th>\n",
       "      <td>30.000000</td>\n",
       "      <td>30.0</td>\n",
       "      <td>45</td>\n",
       "    </tr>\n",
       "    <tr>\n",
       "      <th>Mlle</th>\n",
       "      <td>24.000000</td>\n",
       "      <td>24.0</td>\n",
       "      <td>2</td>\n",
       "    </tr>\n",
       "    <tr>\n",
       "      <th>Mme</th>\n",
       "      <td>24.000000</td>\n",
       "      <td>24.0</td>\n",
       "      <td>1</td>\n",
       "    </tr>\n",
       "    <tr>\n",
       "      <th>Mrs</th>\n",
       "      <td>40.882353</td>\n",
       "      <td>41.5</td>\n",
       "      <td>34</td>\n",
       "    </tr>\n",
       "    <tr>\n",
       "      <th rowspan=\"9\" valign=\"top\">1</th>\n",
       "      <th>Capt</th>\n",
       "      <td>70.000000</td>\n",
       "      <td>70.0</td>\n",
       "      <td>1</td>\n",
       "    </tr>\n",
       "    <tr>\n",
       "      <th>Col</th>\n",
       "      <td>58.000000</td>\n",
       "      <td>58.0</td>\n",
       "      <td>2</td>\n",
       "    </tr>\n",
       "    <tr>\n",
       "      <th>Don</th>\n",
       "      <td>40.000000</td>\n",
       "      <td>40.0</td>\n",
       "      <td>1</td>\n",
       "    </tr>\n",
       "    <tr>\n",
       "      <th>Dr</th>\n",
       "      <td>42.000000</td>\n",
       "      <td>44.0</td>\n",
       "      <td>3</td>\n",
       "    </tr>\n",
       "    <tr>\n",
       "      <th>Jonkheer</th>\n",
       "      <td>38.000000</td>\n",
       "      <td>38.0</td>\n",
       "      <td>1</td>\n",
       "    </tr>\n",
       "    <tr>\n",
       "      <th>Major</th>\n",
       "      <td>48.500000</td>\n",
       "      <td>48.5</td>\n",
       "      <td>2</td>\n",
       "    </tr>\n",
       "    <tr>\n",
       "      <th>Master</th>\n",
       "      <td>5.306667</td>\n",
       "      <td>4.0</td>\n",
       "      <td>3</td>\n",
       "    </tr>\n",
       "    <tr>\n",
       "      <th>Mr</th>\n",
       "      <td>41.580460</td>\n",
       "      <td>40.0</td>\n",
       "      <td>87</td>\n",
       "    </tr>\n",
       "    <tr>\n",
       "      <th>Sir</th>\n",
       "      <td>49.000000</td>\n",
       "      <td>49.0</td>\n",
       "      <td>1</td>\n",
       "    </tr>\n",
       "    <tr>\n",
       "      <th rowspan=\"7\" valign=\"top\">2</th>\n",
       "      <th rowspan=\"3\" valign=\"top\">0</th>\n",
       "      <th>Miss</th>\n",
       "      <td>22.390625</td>\n",
       "      <td>24.0</td>\n",
       "      <td>32</td>\n",
       "    </tr>\n",
       "    <tr>\n",
       "      <th>Mrs</th>\n",
       "      <td>33.682927</td>\n",
       "      <td>32.0</td>\n",
       "      <td>41</td>\n",
       "    </tr>\n",
       "    <tr>\n",
       "      <th>Ms</th>\n",
       "      <td>28.000000</td>\n",
       "      <td>28.0</td>\n",
       "      <td>1</td>\n",
       "    </tr>\n",
       "    <tr>\n",
       "      <th rowspan=\"4\" valign=\"top\">1</th>\n",
       "      <th>Dr</th>\n",
       "      <td>38.500000</td>\n",
       "      <td>38.5</td>\n",
       "      <td>2</td>\n",
       "    </tr>\n",
       "    <tr>\n",
       "      <th>Master</th>\n",
       "      <td>2.258889</td>\n",
       "      <td>1.0</td>\n",
       "      <td>9</td>\n",
       "    </tr>\n",
       "    <tr>\n",
       "      <th>Mr</th>\n",
       "      <td>32.768293</td>\n",
       "      <td>31.0</td>\n",
       "      <td>82</td>\n",
       "    </tr>\n",
       "    <tr>\n",
       "      <th>Rev</th>\n",
       "      <td>43.166667</td>\n",
       "      <td>46.5</td>\n",
       "      <td>6</td>\n",
       "    </tr>\n",
       "    <tr>\n",
       "      <th rowspan=\"4\" valign=\"top\">3</th>\n",
       "      <th rowspan=\"2\" valign=\"top\">0</th>\n",
       "      <th>Miss</th>\n",
       "      <td>16.123188</td>\n",
       "      <td>18.0</td>\n",
       "      <td>69</td>\n",
       "    </tr>\n",
       "    <tr>\n",
       "      <th>Mrs</th>\n",
       "      <td>33.515152</td>\n",
       "      <td>31.0</td>\n",
       "      <td>33</td>\n",
       "    </tr>\n",
       "    <tr>\n",
       "      <th rowspan=\"2\" valign=\"top\">1</th>\n",
       "      <th>Master</th>\n",
       "      <td>5.350833</td>\n",
       "      <td>4.0</td>\n",
       "      <td>24</td>\n",
       "    </tr>\n",
       "    <tr>\n",
       "      <th>Mr</th>\n",
       "      <td>28.724891</td>\n",
       "      <td>26.0</td>\n",
       "      <td>229</td>\n",
       "    </tr>\n",
       "  </tbody>\n",
       "</table>\n",
       "</div>"
      ],
      "text/plain": [
       "                          mean  median  count\n",
       "Pclass Sex Title                             \n",
       "1      0   Countess  33.000000    33.0      1\n",
       "           Dr        49.000000    49.0      1\n",
       "           Lady      48.000000    48.0      1\n",
       "           Miss      30.000000    30.0     45\n",
       "           Mlle      24.000000    24.0      2\n",
       "           Mme       24.000000    24.0      1\n",
       "           Mrs       40.882353    41.5     34\n",
       "       1   Capt      70.000000    70.0      1\n",
       "           Col       58.000000    58.0      2\n",
       "           Don       40.000000    40.0      1\n",
       "           Dr        42.000000    44.0      3\n",
       "           Jonkheer  38.000000    38.0      1\n",
       "           Major     48.500000    48.5      2\n",
       "           Master     5.306667     4.0      3\n",
       "           Mr        41.580460    40.0     87\n",
       "           Sir       49.000000    49.0      1\n",
       "2      0   Miss      22.390625    24.0     32\n",
       "           Mrs       33.682927    32.0     41\n",
       "           Ms        28.000000    28.0      1\n",
       "       1   Dr        38.500000    38.5      2\n",
       "           Master     2.258889     1.0      9\n",
       "           Mr        32.768293    31.0     82\n",
       "           Rev       43.166667    46.5      6\n",
       "3      0   Miss      16.123188    18.0     69\n",
       "           Mrs       33.515152    31.0     33\n",
       "       1   Master     5.350833     4.0     24\n",
       "           Mr        28.724891    26.0    229"
      ]
     },
     "execution_count": 19,
     "metadata": {},
     "output_type": "execute_result"
    }
   ],
   "source": [
    "pd.set_option(\"display.max_rows\", None, \"display.max_columns\", None)\n",
    "\n",
    "train['Title'], test['Title'] = [train.Name.str.extract \\\n",
    "        (' ([A-Za-z]+)\\.', expand=False) for df in [train, test]]\n",
    "s=train.groupby(['Pclass','Sex','Title'])['Age'].agg({'mean', 'median', 'count'})\n",
    "print(train[\"Age\"].isna().sum())\n",
    "print(test[\"Age\"].isna().sum())\n",
    "s\n",
    "#print(test.groupby(['Pclass','Sex','Title'])['Age'].agg({'mean', 'median', 'count'}))"
   ]
  },
  {
   "cell_type": "markdown",
   "id": "a489553c",
   "metadata": {
    "papermill": {
     "duration": 0.093745,
     "end_time": "2022-03-10T14:52:43.959320",
     "exception": false,
     "start_time": "2022-03-10T14:52:43.865575",
     "status": "completed"
    },
    "tags": []
   },
   "source": [
    "# SibSp"
   ]
  },
  {
   "cell_type": "code",
   "execution_count": 20,
   "id": "5a78cda3",
   "metadata": {
    "execution": {
     "iopub.execute_input": "2022-03-10T14:52:44.151565Z",
     "iopub.status.busy": "2022-03-10T14:52:44.150895Z",
     "iopub.status.idle": "2022-03-10T14:52:44.488612Z",
     "shell.execute_reply": "2022-03-10T14:52:44.489126Z",
     "shell.execute_reply.started": "2022-03-05T03:57:16.862009Z"
    },
    "papermill": {
     "duration": 0.434648,
     "end_time": "2022-03-10T14:52:44.489300",
     "exception": false,
     "start_time": "2022-03-10T14:52:44.054652",
     "status": "completed"
    },
    "tags": []
   },
   "outputs": [
    {
     "name": "stderr",
     "output_type": "stream",
     "text": [
      "/opt/conda/lib/python3.7/site-packages/seaborn/distributions.py:2619: FutureWarning: `distplot` is a deprecated function and will be removed in a future version. Please adapt your code to use either `displot` (a figure-level function with similar flexibility) or `histplot` (an axes-level function for histograms).\n",
      "  warnings.warn(msg, FutureWarning)\n",
      "/opt/conda/lib/python3.7/site-packages/seaborn/distributions.py:2619: FutureWarning: `distplot` is a deprecated function and will be removed in a future version. Please adapt your code to use either `displot` (a figure-level function with similar flexibility) or `histplot` (an axes-level function for histograms).\n",
      "  warnings.warn(msg, FutureWarning)\n"
     ]
    },
    {
     "data": {
      "image/png": "[encoded data removed]",
      "text/plain": [
       "<Figure size 720x720 with 1 Axes>"
      ]
     },
     "metadata": {
      "needs_background": "light"
     },
     "output_type": "display_data"
    }
   ],
   "source": [
    "fig = plt.figure(figsize=(10, 10))\n",
    "sns.distplot(train.loc[train['Survived'] == 1]['SibSp'],  kde_kws={'label': 'Survived'});\n",
    "sns.distplot(train.loc[train['Survived'] == 0]['SibSp'], kde_kws={'label': 'Did not survive'}, hist_kws={ \"linewidth\": 3});"
   ]
  },
  {
   "cell_type": "markdown",
   "id": "be5251f7",
   "metadata": {
    "papermill": {
     "duration": 0.110271,
     "end_time": "2022-03-10T14:52:44.696606",
     "exception": false,
     "start_time": "2022-03-10T14:52:44.586335",
     "status": "completed"
    },
    "tags": []
   },
   "source": [
    "0 siblings and spouse had higher chance of death"
   ]
  },
  {
   "cell_type": "code",
   "execution_count": 21,
   "id": "fd3b299f",
   "metadata": {
    "execution": {
     "iopub.execute_input": "2022-03-10T14:52:44.897685Z",
     "iopub.status.busy": "2022-03-10T14:52:44.896989Z",
     "iopub.status.idle": "2022-03-10T14:52:44.901130Z",
     "shell.execute_reply": "2022-03-10T14:52:44.901682Z",
     "shell.execute_reply.started": "2022-03-05T03:57:17.158263Z"
    },
    "papermill": {
     "duration": 0.103819,
     "end_time": "2022-03-10T14:52:44.901866",
     "exception": false,
     "start_time": "2022-03-10T14:52:44.798047",
     "status": "completed"
    },
    "tags": []
   },
   "outputs": [],
   "source": [
    "MLTrain[\"SibSp\"]=train[\"SibSp\"]"
   ]
  },
  {
   "cell_type": "markdown",
   "id": "b5e79286",
   "metadata": {
    "papermill": {
     "duration": 0.096086,
     "end_time": "2022-03-10T14:52:45.094087",
     "exception": false,
     "start_time": "2022-03-10T14:52:44.998001",
     "status": "completed"
    },
    "tags": []
   },
   "source": [
    "# Parch"
   ]
  },
  {
   "cell_type": "code",
   "execution_count": 22,
   "id": "c77d067f",
   "metadata": {
    "execution": {
     "iopub.execute_input": "2022-03-10T14:52:45.287038Z",
     "iopub.status.busy": "2022-03-10T14:52:45.286325Z",
     "iopub.status.idle": "2022-03-10T14:52:45.747344Z",
     "shell.execute_reply": "2022-03-10T14:52:45.746747Z",
     "shell.execute_reply.started": "2022-03-08T17:59:54.709991Z"
    },
    "papermill": {
     "duration": 0.558333,
     "end_time": "2022-03-10T14:52:45.747482",
     "exception": false,
     "start_time": "2022-03-10T14:52:45.189149",
     "status": "completed"
    },
    "tags": []
   },
   "outputs": [
    {
     "name": "stderr",
     "output_type": "stream",
     "text": [
      "/opt/conda/lib/python3.7/site-packages/seaborn/distributions.py:2619: FutureWarning: `distplot` is a deprecated function and will be removed in a future version. Please adapt your code to use either `displot` (a figure-level function with similar flexibility) or `histplot` (an axes-level function for histograms).\n",
      "  warnings.warn(msg, FutureWarning)\n",
      "/opt/conda/lib/python3.7/site-packages/seaborn/distributions.py:2619: FutureWarning: `distplot` is a deprecated function and will be removed in a future version. Please adapt your code to use either `displot` (a figure-level function with similar flexibility) or `histplot` (an axes-level function for histograms).\n",
      "  warnings.warn(msg, FutureWarning)\n"
     ]
    },
    {
     "data": {
      "image/png": "[encoded data removed]",
      "text/plain": [
       "<Figure size 720x720 with 1 Axes>"
      ]
     },
     "metadata": {
      "needs_background": "light"
     },
     "output_type": "display_data"
    }
   ],
   "source": [
    "fig = plt.figure(figsize=(10, 10))\n",
    "sns.distplot(train.loc[train['Survived'] == 1]['Parch'],  kde_kws={'label': 'Survived'});\n",
    "sns.distplot(train.loc[train['Survived'] == 0]['Parch'], kde_kws={'label': 'Did not survive'}, hist_kws={ \"linewidth\": 3});"
   ]
  },
  {
   "cell_type": "markdown",
   "id": "73ffe9ef",
   "metadata": {
    "papermill": {
     "duration": 0.098405,
     "end_time": "2022-03-10T14:52:45.944157",
     "exception": false,
     "start_time": "2022-03-10T14:52:45.845752",
     "status": "completed"
    },
    "tags": []
   },
   "source": [
    "Similar pattern as SibSp"
   ]
  },
  {
   "cell_type": "code",
   "execution_count": 23,
   "id": "0f70288e",
   "metadata": {
    "execution": {
     "iopub.execute_input": "2022-03-10T14:52:46.143456Z",
     "iopub.status.busy": "2022-03-10T14:52:46.142486Z",
     "iopub.status.idle": "2022-03-10T14:52:46.146802Z",
     "shell.execute_reply": "2022-03-10T14:52:46.147248Z",
     "shell.execute_reply.started": "2022-03-05T03:57:17.493456Z"
    },
    "papermill": {
     "duration": 0.1055,
     "end_time": "2022-03-10T14:52:46.147428",
     "exception": false,
     "start_time": "2022-03-10T14:52:46.041928",
     "status": "completed"
    },
    "tags": []
   },
   "outputs": [],
   "source": [
    "MLTrain[\"Parch\"]=train[\"Parch\"]"
   ]
  },
  {
   "cell_type": "markdown",
   "id": "78ea9b06",
   "metadata": {
    "papermill": {
     "duration": 0.097431,
     "end_time": "2022-03-10T14:52:46.342851",
     "exception": false,
     "start_time": "2022-03-10T14:52:46.245420",
     "status": "completed"
    },
    "tags": []
   },
   "source": [
    "# Ticket"
   ]
  },
  {
   "cell_type": "code",
   "execution_count": 24,
   "id": "4f78c899",
   "metadata": {
    "execution": {
     "iopub.execute_input": "2022-03-10T14:52:46.541005Z",
     "iopub.status.busy": "2022-03-10T14:52:46.540267Z",
     "iopub.status.idle": "2022-03-10T14:52:46.560126Z",
     "shell.execute_reply": "2022-03-10T14:52:46.559478Z",
     "shell.execute_reply.started": "2022-03-05T03:57:17.501727Z"
    },
    "papermill": {
     "duration": 0.119866,
     "end_time": "2022-03-10T14:52:46.560272",
     "exception": false,
     "start_time": "2022-03-10T14:52:46.440406",
     "status": "completed"
    },
    "tags": []
   },
   "outputs": [
    {
     "data": {
      "text/html": [
       "<div>\n",
       "<style scoped>\n",
       "    .dataframe tbody tr th:only-of-type {\n",
       "        vertical-align: middle;\n",
       "    }\n",
       "\n",
       "    .dataframe tbody tr th {\n",
       "        vertical-align: top;\n",
       "    }\n",
       "\n",
       "    .dataframe thead th {\n",
       "        text-align: right;\n",
       "    }\n",
       "</style>\n",
       "<table border=\"1\" class=\"dataframe\">\n",
       "  <thead>\n",
       "    <tr style=\"text-align: right;\">\n",
       "      <th></th>\n",
       "      <th>PassengerId</th>\n",
       "      <th>Survived</th>\n",
       "      <th>Pclass</th>\n",
       "      <th>Name</th>\n",
       "      <th>Sex</th>\n",
       "      <th>Age</th>\n",
       "      <th>SibSp</th>\n",
       "      <th>Parch</th>\n",
       "      <th>Ticket</th>\n",
       "      <th>Fare</th>\n",
       "      <th>Cabin</th>\n",
       "      <th>Embarked</th>\n",
       "      <th>LastName</th>\n",
       "      <th>repeat</th>\n",
       "      <th>Title</th>\n",
       "    </tr>\n",
       "  </thead>\n",
       "  <tbody>\n",
       "    <tr>\n",
       "      <th>63</th>\n",
       "      <td>64</td>\n",
       "      <td>0</td>\n",
       "      <td>3</td>\n",
       "      <td>Skoog, Master. Harald</td>\n",
       "      <td>1</td>\n",
       "      <td>4.0</td>\n",
       "      <td>3</td>\n",
       "      <td>2</td>\n",
       "      <td>347088</td>\n",
       "      <td>27.9</td>\n",
       "      <td>NaN</td>\n",
       "      <td>S</td>\n",
       "      <td>Skoog</td>\n",
       "      <td>True</td>\n",
       "      <td>Master</td>\n",
       "    </tr>\n",
       "    <tr>\n",
       "      <th>167</th>\n",
       "      <td>168</td>\n",
       "      <td>0</td>\n",
       "      <td>3</td>\n",
       "      <td>Skoog, Mrs. William (Anna Bernhardina Karlsson)</td>\n",
       "      <td>0</td>\n",
       "      <td>45.0</td>\n",
       "      <td>1</td>\n",
       "      <td>4</td>\n",
       "      <td>347088</td>\n",
       "      <td>27.9</td>\n",
       "      <td>NaN</td>\n",
       "      <td>S</td>\n",
       "      <td>Skoog</td>\n",
       "      <td>True</td>\n",
       "      <td>Mrs</td>\n",
       "    </tr>\n",
       "    <tr>\n",
       "      <th>360</th>\n",
       "      <td>361</td>\n",
       "      <td>0</td>\n",
       "      <td>3</td>\n",
       "      <td>Skoog, Mr. Wilhelm</td>\n",
       "      <td>1</td>\n",
       "      <td>40.0</td>\n",
       "      <td>1</td>\n",
       "      <td>4</td>\n",
       "      <td>347088</td>\n",
       "      <td>27.9</td>\n",
       "      <td>NaN</td>\n",
       "      <td>S</td>\n",
       "      <td>Skoog</td>\n",
       "      <td>True</td>\n",
       "      <td>Mr</td>\n",
       "    </tr>\n",
       "    <tr>\n",
       "      <th>634</th>\n",
       "      <td>635</td>\n",
       "      <td>0</td>\n",
       "      <td>3</td>\n",
       "      <td>Skoog, Miss. Mabel</td>\n",
       "      <td>0</td>\n",
       "      <td>9.0</td>\n",
       "      <td>3</td>\n",
       "      <td>2</td>\n",
       "      <td>347088</td>\n",
       "      <td>27.9</td>\n",
       "      <td>NaN</td>\n",
       "      <td>S</td>\n",
       "      <td>Skoog</td>\n",
       "      <td>True</td>\n",
       "      <td>Miss</td>\n",
       "    </tr>\n",
       "    <tr>\n",
       "      <th>642</th>\n",
       "      <td>643</td>\n",
       "      <td>0</td>\n",
       "      <td>3</td>\n",
       "      <td>Skoog, Miss. Margit Elizabeth</td>\n",
       "      <td>0</td>\n",
       "      <td>2.0</td>\n",
       "      <td>3</td>\n",
       "      <td>2</td>\n",
       "      <td>347088</td>\n",
       "      <td>27.9</td>\n",
       "      <td>NaN</td>\n",
       "      <td>S</td>\n",
       "      <td>Skoog</td>\n",
       "      <td>True</td>\n",
       "      <td>Miss</td>\n",
       "    </tr>\n",
       "    <tr>\n",
       "      <th>819</th>\n",
       "      <td>820</td>\n",
       "      <td>0</td>\n",
       "      <td>3</td>\n",
       "      <td>Skoog, Master. Karl Thorsten</td>\n",
       "      <td>1</td>\n",
       "      <td>10.0</td>\n",
       "      <td>3</td>\n",
       "      <td>2</td>\n",
       "      <td>347088</td>\n",
       "      <td>27.9</td>\n",
       "      <td>NaN</td>\n",
       "      <td>S</td>\n",
       "      <td>Skoog</td>\n",
       "      <td>True</td>\n",
       "      <td>Master</td>\n",
       "    </tr>\n",
       "  </tbody>\n",
       "</table>\n",
       "</div>"
      ],
      "text/plain": [
       "     PassengerId  Survived  Pclass  \\\n",
       "63            64         0       3   \n",
       "167          168         0       3   \n",
       "360          361         0       3   \n",
       "634          635         0       3   \n",
       "642          643         0       3   \n",
       "819          820         0       3   \n",
       "\n",
       "                                                Name Sex   Age  SibSp  Parch  \\\n",
       "63                             Skoog, Master. Harald   1   4.0      3      2   \n",
       "167  Skoog, Mrs. William (Anna Bernhardina Karlsson)   0  45.0      1      4   \n",
       "360                               Skoog, Mr. Wilhelm   1  40.0      1      4   \n",
       "634                               Skoog, Miss. Mabel   0   9.0      3      2   \n",
       "642                    Skoog, Miss. Margit Elizabeth   0   2.0      3      2   \n",
       "819                     Skoog, Master. Karl Thorsten   1  10.0      3      2   \n",
       "\n",
       "     Ticket  Fare Cabin Embarked LastName  repeat   Title  \n",
       "63   347088  27.9   NaN        S    Skoog    True  Master  \n",
       "167  347088  27.9   NaN        S    Skoog    True     Mrs  \n",
       "360  347088  27.9   NaN        S    Skoog    True      Mr  \n",
       "634  347088  27.9   NaN        S    Skoog    True    Miss  \n",
       "642  347088  27.9   NaN        S    Skoog    True    Miss  \n",
       "819  347088  27.9   NaN        S    Skoog    True  Master  "
      ]
     },
     "execution_count": 24,
     "metadata": {},
     "output_type": "execute_result"
    }
   ],
   "source": [
    "\n",
    "\n",
    "train.loc[train[\"Ticket\"]==\"347088\"]"
   ]
  },
  {
   "cell_type": "code",
   "execution_count": 25,
   "id": "d31214a4",
   "metadata": {
    "execution": {
     "iopub.execute_input": "2022-03-10T14:52:46.759178Z",
     "iopub.status.busy": "2022-03-10T14:52:46.758475Z",
     "iopub.status.idle": "2022-03-10T14:52:46.769617Z",
     "shell.execute_reply": "2022-03-10T14:52:46.770169Z",
     "shell.execute_reply.started": "2022-03-05T03:57:17.525965Z"
    },
    "papermill": {
     "duration": 0.112016,
     "end_time": "2022-03-10T14:52:46.770342",
     "exception": false,
     "start_time": "2022-03-10T14:52:46.658326",
     "status": "completed"
    },
    "tags": []
   },
   "outputs": [],
   "source": [
    "train[\"Ticket\"].value_counts()\n",
    "s=train.groupby(['Ticket','Name','SibSp','Parch','Survived'])['Survived'].agg({'mean', 'median', 'count'})\n",
    "#s.sort_values(by=[\"Ticket\"])"
   ]
  },
  {
   "cell_type": "code",
   "execution_count": 26,
   "id": "636a1c26",
   "metadata": {
    "execution": {
     "iopub.execute_input": "2022-03-10T14:52:46.971075Z",
     "iopub.status.busy": "2022-03-10T14:52:46.970434Z",
     "iopub.status.idle": "2022-03-10T14:52:46.976520Z",
     "shell.execute_reply": "2022-03-10T14:52:46.976982Z",
     "shell.execute_reply.started": "2022-03-05T03:57:17.542307Z"
    },
    "papermill": {
     "duration": 0.108354,
     "end_time": "2022-03-10T14:52:46.977150",
     "exception": false,
     "start_time": "2022-03-10T14:52:46.868796",
     "status": "completed"
    },
    "tags": []
   },
   "outputs": [],
   "source": [
    "train['TicketCount'] = 1\n",
    "train['TicketCount'] =train.groupby(['Ticket'])['Name'].transform('count')\n",
    "#this line shows grouped values\n",
    "#train.groupby(['Ticket',\"Name\"]).sum()"
   ]
  },
  {
   "cell_type": "code",
   "execution_count": 27,
   "id": "92cfe03a",
   "metadata": {
    "execution": {
     "iopub.execute_input": "2022-03-10T14:52:47.177211Z",
     "iopub.status.busy": "2022-03-10T14:52:47.176542Z",
     "iopub.status.idle": "2022-03-10T14:52:47.507101Z",
     "shell.execute_reply": "2022-03-10T14:52:47.506435Z",
     "shell.execute_reply.started": "2022-03-05T03:57:17.552211Z"
    },
    "papermill": {
     "duration": 0.431244,
     "end_time": "2022-03-10T14:52:47.507241",
     "exception": false,
     "start_time": "2022-03-10T14:52:47.075997",
     "status": "completed"
    },
    "tags": []
   },
   "outputs": [
    {
     "name": "stderr",
     "output_type": "stream",
     "text": [
      "/opt/conda/lib/python3.7/site-packages/seaborn/distributions.py:2619: FutureWarning: `distplot` is a deprecated function and will be removed in a future version. Please adapt your code to use either `displot` (a figure-level function with similar flexibility) or `histplot` (an axes-level function for histograms).\n",
      "  warnings.warn(msg, FutureWarning)\n",
      "/opt/conda/lib/python3.7/site-packages/seaborn/distributions.py:2619: FutureWarning: `distplot` is a deprecated function and will be removed in a future version. Please adapt your code to use either `displot` (a figure-level function with similar flexibility) or `histplot` (an axes-level function for histograms).\n",
      "  warnings.warn(msg, FutureWarning)\n"
     ]
    },
    {
     "data": {
      "image/png": "[encoded data removed]",
      "text/plain": [
       "<Figure size 720x720 with 1 Axes>"
      ]
     },
     "metadata": {
      "needs_background": "light"
     },
     "output_type": "display_data"
    }
   ],
   "source": [
    "fig = plt.figure(figsize=(10, 10))\n",
    "sns.distplot(train.loc[train['Survived'] == 1]['TicketCount'],  kde_kws={'label': 'Survived'});\n",
    "sns.distplot(train.loc[train['Survived'] == 0]['TicketCount'], kde_kws={'label': 'Did not survive'}, hist_kws={ \"linewidth\": 3});"
   ]
  },
  {
   "cell_type": "code",
   "execution_count": 28,
   "id": "e0246dc3",
   "metadata": {
    "execution": {
     "iopub.execute_input": "2022-03-10T14:52:47.713671Z",
     "iopub.status.busy": "2022-03-10T14:52:47.712799Z",
     "iopub.status.idle": "2022-03-10T14:52:47.715363Z",
     "shell.execute_reply": "2022-03-10T14:52:47.714844Z",
     "shell.execute_reply.started": "2022-03-05T03:57:17.843282Z"
    },
    "papermill": {
     "duration": 0.10729,
     "end_time": "2022-03-10T14:52:47.715498",
     "exception": false,
     "start_time": "2022-03-10T14:52:47.608208",
     "status": "completed"
    },
    "tags": []
   },
   "outputs": [],
   "source": [
    "MLTrain[\"TicketCount\"]=train[\"TicketCount\"]"
   ]
  },
  {
   "cell_type": "markdown",
   "id": "917b57ce",
   "metadata": {
    "papermill": {
     "duration": 0.099224,
     "end_time": "2022-03-10T14:52:47.913798",
     "exception": false,
     "start_time": "2022-03-10T14:52:47.814574",
     "status": "completed"
    },
    "tags": []
   },
   "source": [
    "# Fare"
   ]
  },
  {
   "cell_type": "markdown",
   "id": "1f24ce69",
   "metadata": {
    "papermill": {
     "duration": 0.099285,
     "end_time": "2022-03-10T14:52:48.115246",
     "exception": false,
     "start_time": "2022-03-10T14:52:48.015961",
     "status": "completed"
    },
    "tags": []
   },
   "source": []
  },
  {
   "cell_type": "code",
   "execution_count": 29,
   "id": "0331c176",
   "metadata": {
    "execution": {
     "iopub.execute_input": "2022-03-10T14:52:48.317069Z",
     "iopub.status.busy": "2022-03-10T14:52:48.316228Z",
     "iopub.status.idle": "2022-03-10T14:52:48.318788Z",
     "shell.execute_reply": "2022-03-10T14:52:48.319281Z",
     "shell.execute_reply.started": "2022-03-05T03:57:17.850956Z"
    },
    "papermill": {
     "duration": 0.105232,
     "end_time": "2022-03-10T14:52:48.319547",
     "exception": false,
     "start_time": "2022-03-10T14:52:48.214315",
     "status": "completed"
    },
    "tags": []
   },
   "outputs": [],
   "source": [
    "# the folowing statement shows Fare was decided by the ticket and seem to be the same values so Ticket values we aded earlier should be sufficient\n",
    "\n",
    "#train.groupby(['Ticket',\"Fare\",\"Name\"]).sum()\n"
   ]
  },
  {
   "cell_type": "markdown",
   "id": "ec3454f1",
   "metadata": {
    "papermill": {
     "duration": 0.099214,
     "end_time": "2022-03-10T14:52:48.517936",
     "exception": false,
     "start_time": "2022-03-10T14:52:48.418722",
     "status": "completed"
    },
    "tags": []
   },
   "source": [
    "# Embarked"
   ]
  },
  {
   "cell_type": "code",
   "execution_count": 30,
   "id": "dff0b75e",
   "metadata": {
    "execution": {
     "iopub.execute_input": "2022-03-10T14:52:48.727709Z",
     "iopub.status.busy": "2022-03-10T14:52:48.718530Z",
     "iopub.status.idle": "2022-03-10T14:52:49.016880Z",
     "shell.execute_reply": "2022-03-10T14:52:49.016329Z",
     "shell.execute_reply.started": "2022-03-05T03:57:17.867551Z"
    },
    "papermill": {
     "duration": 0.399326,
     "end_time": "2022-03-10T14:52:49.017025",
     "exception": false,
     "start_time": "2022-03-10T14:52:48.617699",
     "status": "completed"
    },
    "tags": []
   },
   "outputs": [
    {
     "name": "stderr",
     "output_type": "stream",
     "text": [
      "/opt/conda/lib/python3.7/site-packages/seaborn/distributions.py:2619: FutureWarning: `distplot` is a deprecated function and will be removed in a future version. Please adapt your code to use either `displot` (a figure-level function with similar flexibility) or `histplot` (an axes-level function for histograms).\n",
      "  warnings.warn(msg, FutureWarning)\n",
      "/opt/conda/lib/python3.7/site-packages/seaborn/distributions.py:2619: FutureWarning: `distplot` is a deprecated function and will be removed in a future version. Please adapt your code to use either `displot` (a figure-level function with similar flexibility) or `histplot` (an axes-level function for histograms).\n",
      "  warnings.warn(msg, FutureWarning)\n"
     ]
    },
    {
     "data": {
      "image/png": "[encoded data removed]",
      "text/plain": [
       "<Figure size 720x720 with 1 Axes>"
      ]
     },
     "metadata": {
      "needs_background": "light"
     },
     "output_type": "display_data"
    }
   ],
   "source": [
    "train[\"Embarked\"] = train[\"Embarked\"].astype('category')\n",
    "train[\"Embarked_cat\"] = train[\"Embarked\"].cat.codes\n",
    "fig = plt.figure(figsize=(10, 10))\n",
    "\n",
    "sns.distplot(train.loc[train['Survived'] == 1]['Embarked_cat'],  kde_kws={'label': 'Survived'});\n",
    "sns.distplot(train.loc[train['Survived'] == 0]['Embarked_cat'], kde_kws={'label': 'Did not survive'}, hist_kws={ \"linewidth\": 3});"
   ]
  },
  {
   "cell_type": "code",
   "execution_count": 31,
   "id": "ceb72c85",
   "metadata": {
    "execution": {
     "iopub.execute_input": "2022-03-10T14:52:49.226486Z",
     "iopub.status.busy": "2022-03-10T14:52:49.225376Z",
     "iopub.status.idle": "2022-03-10T14:52:49.481533Z",
     "shell.execute_reply": "2022-03-10T14:52:49.482078Z",
     "shell.execute_reply.started": "2022-03-05T03:57:18.114795Z"
    },
    "papermill": {
     "duration": 0.364766,
     "end_time": "2022-03-10T14:52:49.482246",
     "exception": false,
     "start_time": "2022-03-10T14:52:49.117480",
     "status": "completed"
    },
    "tags": []
   },
   "outputs": [
    {
     "name": "stderr",
     "output_type": "stream",
     "text": [
      "/opt/conda/lib/python3.7/site-packages/seaborn/distributions.py:2619: FutureWarning: `distplot` is a deprecated function and will be removed in a future version. Please adapt your code to use either `displot` (a figure-level function with similar flexibility) or `histplot` (an axes-level function for histograms).\n",
      "  warnings.warn(msg, FutureWarning)\n",
      "/opt/conda/lib/python3.7/site-packages/seaborn/distributions.py:2619: FutureWarning: `distplot` is a deprecated function and will be removed in a future version. Please adapt your code to use either `displot` (a figure-level function with similar flexibility) or `histplot` (an axes-level function for histograms).\n",
      "  warnings.warn(msg, FutureWarning)\n"
     ]
    },
    {
     "data": {
      "image/png": "[encoded data removed]",
      "text/plain": [
       "<Figure size 432x288 with 1 Axes>"
      ]
     },
     "metadata": {
      "needs_background": "light"
     },
     "output_type": "display_data"
    }
   ],
   "source": [
    "test_tr=pd.DataFrame()\n",
    "test_tr[\"Survived\"]=gender_submission[\"Survived\"]\n",
    "test_tr[\"Embarked\"] = test[\"Embarked\"].astype('category')\n",
    "test_tr[\"Embarked_cat\"] = test_tr[\"Embarked\"].cat.codes\n",
    "sns.distplot(test_tr.loc[test_tr['Survived'] == 1]['Embarked_cat'],  kde_kws={'label': 'Survived'});\n",
    "sns.distplot(test_tr.loc[test_tr['Survived'] == 0]['Embarked_cat'], kde_kws={'label': 'Did not survive'}, hist_kws={ \"linewidth\": 3});"
   ]
  },
  {
   "cell_type": "code",
   "execution_count": 32,
   "id": "1c154854",
   "metadata": {
    "execution": {
     "iopub.execute_input": "2022-03-10T14:52:49.689194Z",
     "iopub.status.busy": "2022-03-10T14:52:49.688131Z",
     "iopub.status.idle": "2022-03-10T14:52:49.704768Z",
     "shell.execute_reply": "2022-03-10T14:52:49.705317Z",
     "shell.execute_reply.started": "2022-03-05T03:57:18.320728Z"
    },
    "papermill": {
     "duration": 0.12107,
     "end_time": "2022-03-10T14:52:49.705485",
     "exception": false,
     "start_time": "2022-03-10T14:52:49.584415",
     "status": "completed"
    },
    "tags": []
   },
   "outputs": [
    {
     "data": {
      "text/html": [
       "<div>\n",
       "<style scoped>\n",
       "    .dataframe tbody tr th:only-of-type {\n",
       "        vertical-align: middle;\n",
       "    }\n",
       "\n",
       "    .dataframe tbody tr th {\n",
       "        vertical-align: top;\n",
       "    }\n",
       "\n",
       "    .dataframe thead th {\n",
       "        text-align: right;\n",
       "    }\n",
       "</style>\n",
       "<table border=\"1\" class=\"dataframe\">\n",
       "  <thead>\n",
       "    <tr style=\"text-align: right;\">\n",
       "      <th></th>\n",
       "      <th>PassengerId</th>\n",
       "      <th>Survived</th>\n",
       "      <th>Pclass</th>\n",
       "      <th>Age</th>\n",
       "      <th>SibSp</th>\n",
       "      <th>Parch</th>\n",
       "      <th>Fare</th>\n",
       "      <th>repeat</th>\n",
       "      <th>TicketCount</th>\n",
       "      <th>Embarked_cat</th>\n",
       "    </tr>\n",
       "    <tr>\n",
       "      <th>Embarked</th>\n",
       "      <th></th>\n",
       "      <th></th>\n",
       "      <th></th>\n",
       "      <th></th>\n",
       "      <th></th>\n",
       "      <th></th>\n",
       "      <th></th>\n",
       "      <th></th>\n",
       "      <th></th>\n",
       "      <th></th>\n",
       "    </tr>\n",
       "  </thead>\n",
       "  <tbody>\n",
       "    <tr>\n",
       "      <th>C</th>\n",
       "      <td>74820</td>\n",
       "      <td>93</td>\n",
       "      <td>317</td>\n",
       "      <td>4005.92</td>\n",
       "      <td>65</td>\n",
       "      <td>61</td>\n",
       "      <td>10072.2962</td>\n",
       "      <td>66</td>\n",
       "      <td>289</td>\n",
       "      <td>0.0</td>\n",
       "    </tr>\n",
       "    <tr>\n",
       "      <th>Q</th>\n",
       "      <td>32178</td>\n",
       "      <td>30</td>\n",
       "      <td>224</td>\n",
       "      <td>786.50</td>\n",
       "      <td>33</td>\n",
       "      <td>13</td>\n",
       "      <td>1022.2543</td>\n",
       "      <td>29</td>\n",
       "      <td>113</td>\n",
       "      <td>77.0</td>\n",
       "    </tr>\n",
       "    <tr>\n",
       "      <th>S</th>\n",
       "      <td>289496</td>\n",
       "      <td>217</td>\n",
       "      <td>1514</td>\n",
       "      <td>16312.75</td>\n",
       "      <td>368</td>\n",
       "      <td>266</td>\n",
       "      <td>17439.3988</td>\n",
       "      <td>262</td>\n",
       "      <td>1187</td>\n",
       "      <td>1288.0</td>\n",
       "    </tr>\n",
       "  </tbody>\n",
       "</table>\n",
       "</div>"
      ],
      "text/plain": [
       "          PassengerId  Survived  Pclass       Age  SibSp  Parch        Fare  \\\n",
       "Embarked                                                                      \n",
       "C               74820        93     317   4005.92     65     61  10072.2962   \n",
       "Q               32178        30     224    786.50     33     13   1022.2543   \n",
       "S              289496       217    1514  16312.75    368    266  17439.3988   \n",
       "\n",
       "          repeat  TicketCount  Embarked_cat  \n",
       "Embarked                                     \n",
       "C             66          289           0.0  \n",
       "Q             29          113          77.0  \n",
       "S            262         1187        1288.0  "
      ]
     },
     "execution_count": 32,
     "metadata": {},
     "output_type": "execute_result"
    }
   ],
   "source": [
    "train.groupby([\"Embarked\"]).sum()\n"
   ]
  },
  {
   "cell_type": "code",
   "execution_count": 33,
   "id": "b19b56e3",
   "metadata": {
    "execution": {
     "iopub.execute_input": "2022-03-10T14:52:49.913246Z",
     "iopub.status.busy": "2022-03-10T14:52:49.912223Z",
     "iopub.status.idle": "2022-03-10T14:52:49.922940Z",
     "shell.execute_reply": "2022-03-10T14:52:49.923487Z",
     "shell.execute_reply.started": "2022-03-05T03:57:18.339336Z"
    },
    "papermill": {
     "duration": 0.116781,
     "end_time": "2022-03-10T14:52:49.923676",
     "exception": false,
     "start_time": "2022-03-10T14:52:49.806895",
     "status": "completed"
    },
    "tags": []
   },
   "outputs": [
    {
     "data": {
      "text/plain": [
       "PassengerId     427\n",
       "Survived        427\n",
       "Pclass          427\n",
       "Name            427\n",
       "Sex             427\n",
       "Age             353\n",
       "SibSp           427\n",
       "Parch           427\n",
       "Ticket          427\n",
       "Fare            427\n",
       "Cabin            49\n",
       "Embarked        427\n",
       "LastName        427\n",
       "repeat          427\n",
       "Title           427\n",
       "TicketCount     427\n",
       "Embarked_cat    427\n",
       "dtype: int64"
      ]
     },
     "execution_count": 33,
     "metadata": {},
     "output_type": "execute_result"
    }
   ],
   "source": [
    "train.loc[(train[\"Embarked\"]==\"S\")&(train[\"Survived\"]==0)].count()"
   ]
  },
  {
   "cell_type": "code",
   "execution_count": 34,
   "id": "287e8163",
   "metadata": {
    "execution": {
     "iopub.execute_input": "2022-03-10T14:52:50.138110Z",
     "iopub.status.busy": "2022-03-10T14:52:50.137376Z",
     "iopub.status.idle": "2022-03-10T14:52:50.139876Z",
     "shell.execute_reply": "2022-03-10T14:52:50.140324Z",
     "shell.execute_reply.started": "2022-03-05T03:57:18.352349Z"
    },
    "papermill": {
     "duration": 0.112943,
     "end_time": "2022-03-10T14:52:50.140505",
     "exception": false,
     "start_time": "2022-03-10T14:52:50.027562",
     "status": "completed"
    },
    "tags": []
   },
   "outputs": [],
   "source": [
    "MLTrain[\"Embarked\"]=train[\"Embarked\"]"
   ]
  },
  {
   "cell_type": "code",
   "execution_count": 35,
   "id": "e19dd878",
   "metadata": {
    "execution": {
     "iopub.execute_input": "2022-03-10T14:52:50.396695Z",
     "iopub.status.busy": "2022-03-10T14:52:50.395737Z",
     "iopub.status.idle": "2022-03-10T14:52:50.399235Z",
     "shell.execute_reply": "2022-03-10T14:52:50.399752Z",
     "shell.execute_reply.started": "2022-03-05T03:57:18.361506Z"
    },
    "papermill": {
     "duration": 0.121715,
     "end_time": "2022-03-10T14:52:50.399923",
     "exception": false,
     "start_time": "2022-03-10T14:52:50.278208",
     "status": "completed"
    },
    "tags": []
   },
   "outputs": [
    {
     "data": {
      "text/plain": [
       "891"
      ]
     },
     "execution_count": 35,
     "metadata": {},
     "output_type": "execute_result"
    }
   ],
   "source": [
    "len(MLTrain)"
   ]
  },
  {
   "cell_type": "code",
   "execution_count": 36,
   "id": "09d1b8a7",
   "metadata": {
    "execution": {
     "iopub.execute_input": "2022-03-10T14:52:50.642364Z",
     "iopub.status.busy": "2022-03-10T14:52:50.641354Z",
     "iopub.status.idle": "2022-03-10T14:52:50.654462Z",
     "shell.execute_reply": "2022-03-10T14:52:50.655055Z",
     "shell.execute_reply.started": "2022-03-05T03:57:18.375702Z"
    },
    "papermill": {
     "duration": 0.13034,
     "end_time": "2022-03-10T14:52:50.655239",
     "exception": false,
     "start_time": "2022-03-10T14:52:50.524899",
     "status": "completed"
    },
    "tags": []
   },
   "outputs": [
    {
     "data": {
      "text/html": [
       "<div>\n",
       "<style scoped>\n",
       "    .dataframe tbody tr th:only-of-type {\n",
       "        vertical-align: middle;\n",
       "    }\n",
       "\n",
       "    .dataframe tbody tr th {\n",
       "        vertical-align: top;\n",
       "    }\n",
       "\n",
       "    .dataframe thead th {\n",
       "        text-align: right;\n",
       "    }\n",
       "</style>\n",
       "<table border=\"1\" class=\"dataframe\">\n",
       "  <thead>\n",
       "    <tr style=\"text-align: right;\">\n",
       "      <th></th>\n",
       "      <th>PassengerId</th>\n",
       "      <th>Pclass</th>\n",
       "      <th>Survived</th>\n",
       "      <th>LastName_repeat</th>\n",
       "      <th>Sex</th>\n",
       "      <th>SibSp</th>\n",
       "      <th>Parch</th>\n",
       "      <th>TicketCount</th>\n",
       "      <th>Embarked</th>\n",
       "    </tr>\n",
       "  </thead>\n",
       "  <tbody>\n",
       "    <tr>\n",
       "      <th>0</th>\n",
       "      <td>1</td>\n",
       "      <td>3</td>\n",
       "      <td>0</td>\n",
       "      <td>1</td>\n",
       "      <td>1</td>\n",
       "      <td>1</td>\n",
       "      <td>0</td>\n",
       "      <td>1</td>\n",
       "      <td>S</td>\n",
       "    </tr>\n",
       "    <tr>\n",
       "      <th>1</th>\n",
       "      <td>2</td>\n",
       "      <td>1</td>\n",
       "      <td>1</td>\n",
       "      <td>0</td>\n",
       "      <td>0</td>\n",
       "      <td>1</td>\n",
       "      <td>0</td>\n",
       "      <td>1</td>\n",
       "      <td>C</td>\n",
       "    </tr>\n",
       "    <tr>\n",
       "      <th>2</th>\n",
       "      <td>3</td>\n",
       "      <td>3</td>\n",
       "      <td>1</td>\n",
       "      <td>0</td>\n",
       "      <td>0</td>\n",
       "      <td>0</td>\n",
       "      <td>0</td>\n",
       "      <td>1</td>\n",
       "      <td>S</td>\n",
       "    </tr>\n",
       "    <tr>\n",
       "      <th>3</th>\n",
       "      <td>4</td>\n",
       "      <td>1</td>\n",
       "      <td>1</td>\n",
       "      <td>1</td>\n",
       "      <td>0</td>\n",
       "      <td>1</td>\n",
       "      <td>0</td>\n",
       "      <td>2</td>\n",
       "      <td>S</td>\n",
       "    </tr>\n",
       "    <tr>\n",
       "      <th>4</th>\n",
       "      <td>5</td>\n",
       "      <td>3</td>\n",
       "      <td>0</td>\n",
       "      <td>1</td>\n",
       "      <td>1</td>\n",
       "      <td>0</td>\n",
       "      <td>0</td>\n",
       "      <td>1</td>\n",
       "      <td>S</td>\n",
       "    </tr>\n",
       "  </tbody>\n",
       "</table>\n",
       "</div>"
      ],
      "text/plain": [
       "   PassengerId  Pclass  Survived  LastName_repeat Sex  SibSp  Parch  \\\n",
       "0            1       3         0                1   1      1      0   \n",
       "1            2       1         1                0   0      1      0   \n",
       "2            3       3         1                0   0      0      0   \n",
       "3            4       1         1                1   0      1      0   \n",
       "4            5       3         0                1   1      0      0   \n",
       "\n",
       "   TicketCount Embarked  \n",
       "0            1        S  \n",
       "1            1        C  \n",
       "2            1        S  \n",
       "3            2        S  \n",
       "4            1        S  "
      ]
     },
     "execution_count": 36,
     "metadata": {},
     "output_type": "execute_result"
    }
   ],
   "source": [
    "MLTrain=MLTrain.dropna()\n",
    "\n",
    "MLTrain.head()"
   ]
  },
  {
   "cell_type": "code",
   "execution_count": null,
   "id": "37f2b13c",
   "metadata": {
    "papermill": {
     "duration": 0.105096,
     "end_time": "2022-03-10T14:52:50.868081",
     "exception": false,
     "start_time": "2022-03-10T14:52:50.762985",
     "status": "completed"
    },
    "tags": []
   },
   "outputs": [],
   "source": []
  },
  {
   "cell_type": "markdown",
   "id": "bbbb716b",
   "metadata": {
    "papermill": {
     "duration": 0.104311,
     "end_time": "2022-03-10T14:52:51.082131",
     "exception": false,
     "start_time": "2022-03-10T14:52:50.977820",
     "status": "completed"
    },
    "tags": []
   },
   "source": [
    "# Building Machine Learning Models"
   ]
  },
  {
   "cell_type": "code",
   "execution_count": 37,
   "id": "f7856a99",
   "metadata": {
    "execution": {
     "iopub.execute_input": "2022-03-10T14:52:51.294976Z",
     "iopub.status.busy": "2022-03-10T14:52:51.294047Z",
     "iopub.status.idle": "2022-03-10T14:52:51.303547Z",
     "shell.execute_reply": "2022-03-10T14:52:51.304107Z",
     "shell.execute_reply.started": "2022-03-05T03:57:18.397481Z"
    },
    "papermill": {
     "duration": 0.116731,
     "end_time": "2022-03-10T14:52:51.304270",
     "exception": false,
     "start_time": "2022-03-10T14:52:51.187539",
     "status": "completed"
    },
    "tags": []
   },
   "outputs": [],
   "source": [
    "#one hot encode column\n",
    "MLTrain_embarked_one_hot = pd.get_dummies(MLTrain['Embarked'], \n",
    "                                     prefix='embarked')\n",
    "\n",
    "MLTrain_sex_one_hot = pd.get_dummies(MLTrain['Sex'], \n",
    "                                prefix='sex')\n",
    "\n",
    "MLTrain_LastName_repeat_one_hot = pd.get_dummies(MLTrain['LastName_repeat'], \n",
    "                                   prefix='LastName_repeat')\n",
    "MLTrain_plcass_one_hot = pd.get_dummies(MLTrain['Pclass'], \n",
    "                                   prefix='pclass')\n",
    "MLTrain_plcass_one_hot = pd.get_dummies(MLTrain['Pclass'], \n",
    "                                   prefix='pclass')"
   ]
  },
  {
   "cell_type": "code",
   "execution_count": 38,
   "id": "a5f9df8b",
   "metadata": {
    "execution": {
     "iopub.execute_input": "2022-03-10T14:52:51.515287Z",
     "iopub.status.busy": "2022-03-10T14:52:51.514319Z",
     "iopub.status.idle": "2022-03-10T14:52:51.522109Z",
     "shell.execute_reply": "2022-03-10T14:52:51.522687Z",
     "shell.execute_reply.started": "2022-03-05T03:57:18.413811Z"
    },
    "papermill": {
     "duration": 0.115175,
     "end_time": "2022-03-10T14:52:51.522857",
     "exception": false,
     "start_time": "2022-03-10T14:52:51.407682",
     "status": "completed"
    },
    "tags": []
   },
   "outputs": [],
   "source": [
    "# Combine the one hot encoded columns with df_con_enc\n",
    "MLTrain_con_enc = pd.concat([MLTrain, \n",
    "                        MLTrain_embarked_one_hot, \n",
    "                        MLTrain_sex_one_hot, \n",
    "                        MLTrain_plcass_one_hot], axis=1)\n",
    "\n",
    "# Drop the original categorical columns (because now they've been one hot encoded)\n",
    "MLTrain_con_enc = MLTrain_con_enc.drop(['Pclass', 'Sex', 'Embarked'], axis=1)#=MLTrain.apply(LabelEncoder().fit_transform)\n"
   ]
  },
  {
   "cell_type": "code",
   "execution_count": 39,
   "id": "3bdf099a",
   "metadata": {
    "execution": {
     "iopub.execute_input": "2022-03-10T14:52:51.744262Z",
     "iopub.status.busy": "2022-03-10T14:52:51.743248Z",
     "iopub.status.idle": "2022-03-10T14:52:51.758707Z",
     "shell.execute_reply": "2022-03-10T14:52:51.758088Z",
     "shell.execute_reply.started": "2022-03-05T03:57:18.428109Z"
    },
    "papermill": {
     "duration": 0.129858,
     "end_time": "2022-03-10T14:52:51.758843",
     "exception": false,
     "start_time": "2022-03-10T14:52:51.628985",
     "status": "completed"
    },
    "tags": []
   },
   "outputs": [
    {
     "data": {
      "text/html": [
       "<div>\n",
       "<style scoped>\n",
       "    .dataframe tbody tr th:only-of-type {\n",
       "        vertical-align: middle;\n",
       "    }\n",
       "\n",
       "    .dataframe tbody tr th {\n",
       "        vertical-align: top;\n",
       "    }\n",
       "\n",
       "    .dataframe thead th {\n",
       "        text-align: right;\n",
       "    }\n",
       "</style>\n",
       "<table border=\"1\" class=\"dataframe\">\n",
       "  <thead>\n",
       "    <tr style=\"text-align: right;\">\n",
       "      <th></th>\n",
       "      <th>PassengerId</th>\n",
       "      <th>Survived</th>\n",
       "      <th>LastName_repeat</th>\n",
       "      <th>SibSp</th>\n",
       "      <th>Parch</th>\n",
       "      <th>TicketCount</th>\n",
       "      <th>embarked_C</th>\n",
       "      <th>embarked_Q</th>\n",
       "      <th>embarked_S</th>\n",
       "      <th>sex_0</th>\n",
       "      <th>sex_1</th>\n",
       "      <th>pclass_1</th>\n",
       "      <th>pclass_2</th>\n",
       "      <th>pclass_3</th>\n",
       "    </tr>\n",
       "  </thead>\n",
       "  <tbody>\n",
       "    <tr>\n",
       "      <th>0</th>\n",
       "      <td>1</td>\n",
       "      <td>0</td>\n",
       "      <td>1</td>\n",
       "      <td>1</td>\n",
       "      <td>0</td>\n",
       "      <td>1</td>\n",
       "      <td>0</td>\n",
       "      <td>0</td>\n",
       "      <td>1</td>\n",
       "      <td>0</td>\n",
       "      <td>1</td>\n",
       "      <td>0</td>\n",
       "      <td>0</td>\n",
       "      <td>1</td>\n",
       "    </tr>\n",
       "    <tr>\n",
       "      <th>1</th>\n",
       "      <td>2</td>\n",
       "      <td>1</td>\n",
       "      <td>0</td>\n",
       "      <td>1</td>\n",
       "      <td>0</td>\n",
       "      <td>1</td>\n",
       "      <td>1</td>\n",
       "      <td>0</td>\n",
       "      <td>0</td>\n",
       "      <td>1</td>\n",
       "      <td>0</td>\n",
       "      <td>1</td>\n",
       "      <td>0</td>\n",
       "      <td>0</td>\n",
       "    </tr>\n",
       "    <tr>\n",
       "      <th>2</th>\n",
       "      <td>3</td>\n",
       "      <td>1</td>\n",
       "      <td>0</td>\n",
       "      <td>0</td>\n",
       "      <td>0</td>\n",
       "      <td>1</td>\n",
       "      <td>0</td>\n",
       "      <td>0</td>\n",
       "      <td>1</td>\n",
       "      <td>1</td>\n",
       "      <td>0</td>\n",
       "      <td>0</td>\n",
       "      <td>0</td>\n",
       "      <td>1</td>\n",
       "    </tr>\n",
       "    <tr>\n",
       "      <th>3</th>\n",
       "      <td>4</td>\n",
       "      <td>1</td>\n",
       "      <td>1</td>\n",
       "      <td>1</td>\n",
       "      <td>0</td>\n",
       "      <td>2</td>\n",
       "      <td>0</td>\n",
       "      <td>0</td>\n",
       "      <td>1</td>\n",
       "      <td>1</td>\n",
       "      <td>0</td>\n",
       "      <td>1</td>\n",
       "      <td>0</td>\n",
       "      <td>0</td>\n",
       "    </tr>\n",
       "    <tr>\n",
       "      <th>4</th>\n",
       "      <td>5</td>\n",
       "      <td>0</td>\n",
       "      <td>1</td>\n",
       "      <td>0</td>\n",
       "      <td>0</td>\n",
       "      <td>1</td>\n",
       "      <td>0</td>\n",
       "      <td>0</td>\n",
       "      <td>1</td>\n",
       "      <td>0</td>\n",
       "      <td>1</td>\n",
       "      <td>0</td>\n",
       "      <td>0</td>\n",
       "      <td>1</td>\n",
       "    </tr>\n",
       "    <tr>\n",
       "      <th>5</th>\n",
       "      <td>6</td>\n",
       "      <td>0</td>\n",
       "      <td>1</td>\n",
       "      <td>0</td>\n",
       "      <td>0</td>\n",
       "      <td>1</td>\n",
       "      <td>0</td>\n",
       "      <td>1</td>\n",
       "      <td>0</td>\n",
       "      <td>0</td>\n",
       "      <td>1</td>\n",
       "      <td>0</td>\n",
       "      <td>0</td>\n",
       "      <td>1</td>\n",
       "    </tr>\n",
       "    <tr>\n",
       "      <th>6</th>\n",
       "      <td>7</td>\n",
       "      <td>0</td>\n",
       "      <td>0</td>\n",
       "      <td>0</td>\n",
       "      <td>0</td>\n",
       "      <td>1</td>\n",
       "      <td>0</td>\n",
       "      <td>0</td>\n",
       "      <td>1</td>\n",
       "      <td>0</td>\n",
       "      <td>1</td>\n",
       "      <td>1</td>\n",
       "      <td>0</td>\n",
       "      <td>0</td>\n",
       "    </tr>\n",
       "    <tr>\n",
       "      <th>7</th>\n",
       "      <td>8</td>\n",
       "      <td>0</td>\n",
       "      <td>1</td>\n",
       "      <td>3</td>\n",
       "      <td>1</td>\n",
       "      <td>4</td>\n",
       "      <td>0</td>\n",
       "      <td>0</td>\n",
       "      <td>1</td>\n",
       "      <td>0</td>\n",
       "      <td>1</td>\n",
       "      <td>0</td>\n",
       "      <td>0</td>\n",
       "      <td>1</td>\n",
       "    </tr>\n",
       "    <tr>\n",
       "      <th>8</th>\n",
       "      <td>9</td>\n",
       "      <td>1</td>\n",
       "      <td>1</td>\n",
       "      <td>0</td>\n",
       "      <td>2</td>\n",
       "      <td>3</td>\n",
       "      <td>0</td>\n",
       "      <td>0</td>\n",
       "      <td>1</td>\n",
       "      <td>1</td>\n",
       "      <td>0</td>\n",
       "      <td>0</td>\n",
       "      <td>0</td>\n",
       "      <td>1</td>\n",
       "    </tr>\n",
       "    <tr>\n",
       "      <th>9</th>\n",
       "      <td>10</td>\n",
       "      <td>1</td>\n",
       "      <td>1</td>\n",
       "      <td>1</td>\n",
       "      <td>0</td>\n",
       "      <td>2</td>\n",
       "      <td>1</td>\n",
       "      <td>0</td>\n",
       "      <td>0</td>\n",
       "      <td>1</td>\n",
       "      <td>0</td>\n",
       "      <td>0</td>\n",
       "      <td>1</td>\n",
       "      <td>0</td>\n",
       "    </tr>\n",
       "    <tr>\n",
       "      <th>10</th>\n",
       "      <td>11</td>\n",
       "      <td>1</td>\n",
       "      <td>1</td>\n",
       "      <td>1</td>\n",
       "      <td>1</td>\n",
       "      <td>2</td>\n",
       "      <td>0</td>\n",
       "      <td>0</td>\n",
       "      <td>1</td>\n",
       "      <td>1</td>\n",
       "      <td>0</td>\n",
       "      <td>0</td>\n",
       "      <td>0</td>\n",
       "      <td>1</td>\n",
       "    </tr>\n",
       "    <tr>\n",
       "      <th>11</th>\n",
       "      <td>12</td>\n",
       "      <td>1</td>\n",
       "      <td>0</td>\n",
       "      <td>0</td>\n",
       "      <td>0</td>\n",
       "      <td>1</td>\n",
       "      <td>0</td>\n",
       "      <td>0</td>\n",
       "      <td>1</td>\n",
       "      <td>1</td>\n",
       "      <td>0</td>\n",
       "      <td>1</td>\n",
       "      <td>0</td>\n",
       "      <td>0</td>\n",
       "    </tr>\n",
       "    <tr>\n",
       "      <th>12</th>\n",
       "      <td>13</td>\n",
       "      <td>0</td>\n",
       "      <td>0</td>\n",
       "      <td>0</td>\n",
       "      <td>0</td>\n",
       "      <td>1</td>\n",
       "      <td>0</td>\n",
       "      <td>0</td>\n",
       "      <td>1</td>\n",
       "      <td>0</td>\n",
       "      <td>1</td>\n",
       "      <td>0</td>\n",
       "      <td>0</td>\n",
       "      <td>1</td>\n",
       "    </tr>\n",
       "    <tr>\n",
       "      <th>13</th>\n",
       "      <td>14</td>\n",
       "      <td>0</td>\n",
       "      <td>1</td>\n",
       "      <td>1</td>\n",
       "      <td>5</td>\n",
       "      <td>7</td>\n",
       "      <td>0</td>\n",
       "      <td>0</td>\n",
       "      <td>1</td>\n",
       "      <td>0</td>\n",
       "      <td>1</td>\n",
       "      <td>0</td>\n",
       "      <td>0</td>\n",
       "      <td>1</td>\n",
       "    </tr>\n",
       "    <tr>\n",
       "      <th>14</th>\n",
       "      <td>15</td>\n",
       "      <td>0</td>\n",
       "      <td>0</td>\n",
       "      <td>0</td>\n",
       "      <td>0</td>\n",
       "      <td>1</td>\n",
       "      <td>0</td>\n",
       "      <td>0</td>\n",
       "      <td>1</td>\n",
       "      <td>1</td>\n",
       "      <td>0</td>\n",
       "      <td>0</td>\n",
       "      <td>0</td>\n",
       "      <td>1</td>\n",
       "    </tr>\n",
       "    <tr>\n",
       "      <th>15</th>\n",
       "      <td>16</td>\n",
       "      <td>1</td>\n",
       "      <td>0</td>\n",
       "      <td>0</td>\n",
       "      <td>0</td>\n",
       "      <td>1</td>\n",
       "      <td>0</td>\n",
       "      <td>0</td>\n",
       "      <td>1</td>\n",
       "      <td>1</td>\n",
       "      <td>0</td>\n",
       "      <td>0</td>\n",
       "      <td>1</td>\n",
       "      <td>0</td>\n",
       "    </tr>\n",
       "    <tr>\n",
       "      <th>16</th>\n",
       "      <td>17</td>\n",
       "      <td>0</td>\n",
       "      <td>1</td>\n",
       "      <td>4</td>\n",
       "      <td>1</td>\n",
       "      <td>5</td>\n",
       "      <td>0</td>\n",
       "      <td>1</td>\n",
       "      <td>0</td>\n",
       "      <td>0</td>\n",
       "      <td>1</td>\n",
       "      <td>0</td>\n",
       "      <td>0</td>\n",
       "      <td>1</td>\n",
       "    </tr>\n",
       "    <tr>\n",
       "      <th>17</th>\n",
       "      <td>18</td>\n",
       "      <td>1</td>\n",
       "      <td>1</td>\n",
       "      <td>0</td>\n",
       "      <td>0</td>\n",
       "      <td>1</td>\n",
       "      <td>0</td>\n",
       "      <td>0</td>\n",
       "      <td>1</td>\n",
       "      <td>0</td>\n",
       "      <td>1</td>\n",
       "      <td>0</td>\n",
       "      <td>1</td>\n",
       "      <td>0</td>\n",
       "    </tr>\n",
       "    <tr>\n",
       "      <th>18</th>\n",
       "      <td>19</td>\n",
       "      <td>0</td>\n",
       "      <td>1</td>\n",
       "      <td>1</td>\n",
       "      <td>0</td>\n",
       "      <td>1</td>\n",
       "      <td>0</td>\n",
       "      <td>0</td>\n",
       "      <td>1</td>\n",
       "      <td>1</td>\n",
       "      <td>0</td>\n",
       "      <td>0</td>\n",
       "      <td>0</td>\n",
       "      <td>1</td>\n",
       "    </tr>\n",
       "    <tr>\n",
       "      <th>19</th>\n",
       "      <td>20</td>\n",
       "      <td>1</td>\n",
       "      <td>0</td>\n",
       "      <td>0</td>\n",
       "      <td>0</td>\n",
       "      <td>1</td>\n",
       "      <td>1</td>\n",
       "      <td>0</td>\n",
       "      <td>0</td>\n",
       "      <td>1</td>\n",
       "      <td>0</td>\n",
       "      <td>0</td>\n",
       "      <td>0</td>\n",
       "      <td>1</td>\n",
       "    </tr>\n",
       "  </tbody>\n",
       "</table>\n",
       "</div>"
      ],
      "text/plain": [
       "    PassengerId  Survived  LastName_repeat  SibSp  Parch  TicketCount  \\\n",
       "0             1         0                1      1      0            1   \n",
       "1             2         1                0      1      0            1   \n",
       "2             3         1                0      0      0            1   \n",
       "3             4         1                1      1      0            2   \n",
       "4             5         0                1      0      0            1   \n",
       "5             6         0                1      0      0            1   \n",
       "6             7         0                0      0      0            1   \n",
       "7             8         0                1      3      1            4   \n",
       "8             9         1                1      0      2            3   \n",
       "9            10         1                1      1      0            2   \n",
       "10           11         1                1      1      1            2   \n",
       "11           12         1                0      0      0            1   \n",
       "12           13         0                0      0      0            1   \n",
       "13           14         0                1      1      5            7   \n",
       "14           15         0                0      0      0            1   \n",
       "15           16         1                0      0      0            1   \n",
       "16           17         0                1      4      1            5   \n",
       "17           18         1                1      0      0            1   \n",
       "18           19         0                1      1      0            1   \n",
       "19           20         1                0      0      0            1   \n",
       "\n",
       "    embarked_C  embarked_Q  embarked_S  sex_0  sex_1  pclass_1  pclass_2  \\\n",
       "0            0           0           1      0      1         0         0   \n",
       "1            1           0           0      1      0         1         0   \n",
       "2            0           0           1      1      0         0         0   \n",
       "3            0           0           1      1      0         1         0   \n",
       "4            0           0           1      0      1         0         0   \n",
       "5            0           1           0      0      1         0         0   \n",
       "6            0           0           1      0      1         1         0   \n",
       "7            0           0           1      0      1         0         0   \n",
       "8            0           0           1      1      0         0         0   \n",
       "9            1           0           0      1      0         0         1   \n",
       "10           0           0           1      1      0         0         0   \n",
       "11           0           0           1      1      0         1         0   \n",
       "12           0           0           1      0      1         0         0   \n",
       "13           0           0           1      0      1         0         0   \n",
       "14           0           0           1      1      0         0         0   \n",
       "15           0           0           1      1      0         0         1   \n",
       "16           0           1           0      0      1         0         0   \n",
       "17           0           0           1      0      1         0         1   \n",
       "18           0           0           1      1      0         0         0   \n",
       "19           1           0           0      1      0         0         0   \n",
       "\n",
       "    pclass_3  \n",
       "0          1  \n",
       "1          0  \n",
       "2          1  \n",
       "3          0  \n",
       "4          1  \n",
       "5          1  \n",
       "6          0  \n",
       "7          1  \n",
       "8          1  \n",
       "9          0  \n",
       "10         1  \n",
       "11         0  \n",
       "12         1  \n",
       "13         1  \n",
       "14         1  \n",
       "15         0  \n",
       "16         1  \n",
       "17         0  \n",
       "18         1  \n",
       "19         1  "
      ]
     },
     "execution_count": 39,
     "metadata": {},
     "output_type": "execute_result"
    }
   ],
   "source": [
    "MLTrain_con_enc.head(20)"
   ]
  },
  {
   "cell_type": "code",
   "execution_count": 40,
   "id": "a2d7aecc",
   "metadata": {
    "execution": {
     "iopub.execute_input": "2022-03-10T14:52:51.973522Z",
     "iopub.status.busy": "2022-03-10T14:52:51.972865Z",
     "iopub.status.idle": "2022-03-10T14:52:51.977557Z",
     "shell.execute_reply": "2022-03-10T14:52:51.978137Z",
     "shell.execute_reply.started": "2022-03-05T03:57:18.463046Z"
    },
    "papermill": {
     "duration": 0.1149,
     "end_time": "2022-03-10T14:52:51.978299",
     "exception": false,
     "start_time": "2022-03-10T14:52:51.863399",
     "status": "completed"
    },
    "tags": []
   },
   "outputs": [],
   "source": [
    "# Split the dataframe into data and labels\n",
    "X_train = MLTrain_con_enc.drop('Survived', axis=1) # data\n",
    "y_train = MLTrain_con_enc.Survived # labels"
   ]
  },
  {
   "cell_type": "code",
   "execution_count": 41,
   "id": "b4081c97",
   "metadata": {
    "execution": {
     "iopub.execute_input": "2022-03-10T14:52:52.191214Z",
     "iopub.status.busy": "2022-03-10T14:52:52.190566Z",
     "iopub.status.idle": "2022-03-10T14:52:52.196471Z",
     "shell.execute_reply": "2022-03-10T14:52:52.197087Z",
     "shell.execute_reply.started": "2022-03-05T03:57:18.47647Z"
    },
    "papermill": {
     "duration": 0.113724,
     "end_time": "2022-03-10T14:52:52.197265",
     "exception": false,
     "start_time": "2022-03-10T14:52:52.083541",
     "status": "completed"
    },
    "tags": []
   },
   "outputs": [],
   "source": [
    "# Function that runs the requested algorithm and returns the accuracy metrics\n",
    "def fit_ml_algo(algo, X_train, y_train, cv):\n",
    "    \n",
    "    # One Pass\n",
    "    model = algo.fit(X_train, y_train)\n",
    "    acc = round(model.score(X_train, y_train) * 100, 2)\n",
    "    \n",
    "    # Cross Validation \n",
    "    train_pred = model_selection.cross_val_predict(algo, \n",
    "                                                  X_train, \n",
    "                                                  y_train, \n",
    "                                                  cv=cv, \n",
    "                                                  n_jobs = -1)\n",
    "    # Cross-validation accuracy metric\n",
    "    acc_cv = round(metrics.accuracy_score(y_train, train_pred) * 100, 2)\n",
    "    \n",
    "    return train_pred, acc, acc_cv,model"
   ]
  },
  {
   "cell_type": "markdown",
   "id": "fb92eb7f",
   "metadata": {
    "papermill": {
     "duration": 0.10458,
     "end_time": "2022-03-10T14:52:52.406134",
     "exception": false,
     "start_time": "2022-03-10T14:52:52.301554",
     "status": "completed"
    },
    "tags": []
   },
   "source": [
    "# Logistic Regression"
   ]
  },
  {
   "cell_type": "code",
   "execution_count": 42,
   "id": "fd3d906d",
   "metadata": {
    "execution": {
     "iopub.execute_input": "2022-03-10T14:52:52.620657Z",
     "iopub.status.busy": "2022-03-10T14:52:52.620041Z",
     "iopub.status.idle": "2022-03-10T14:52:54.438271Z",
     "shell.execute_reply": "2022-03-10T14:52:54.437645Z",
     "shell.execute_reply.started": "2022-03-05T03:57:18.48924Z"
    },
    "papermill": {
     "duration": 1.925613,
     "end_time": "2022-03-10T14:52:54.438428",
     "exception": false,
     "start_time": "2022-03-10T14:52:52.512815",
     "status": "completed"
    },
    "tags": []
   },
   "outputs": [
    {
     "name": "stdout",
     "output_type": "stream",
     "text": [
      "Accuracy: 79.64\n",
      "Accuracy CV 10-Fold: 78.85\n",
      "Running Time: 0:00:01.808437\n"
     ]
    }
   ],
   "source": [
    "# Logistic Regression\n",
    "start_time = time.time()\n",
    "train_pred_log, acc_log, acc_cv_log,model = fit_ml_algo(LogisticRegression(), \n",
    "                                                               X_train, \n",
    "                                                               y_train, \n",
    "                                                                    10)\n",
    "log_time = (time.time() - start_time)\n",
    "print(\"Accuracy: %s\" % acc_log)\n",
    "print(\"Accuracy CV 10-Fold: %s\" % acc_cv_log)\n",
    "print(\"Running Time: %s\" % datetime.timedelta(seconds=log_time))"
   ]
  },
  {
   "cell_type": "markdown",
   "id": "aad22c05",
   "metadata": {
    "papermill": {
     "duration": 0.107686,
     "end_time": "2022-03-10T14:52:54.653202",
     "exception": false,
     "start_time": "2022-03-10T14:52:54.545516",
     "status": "completed"
    },
    "tags": []
   },
   "source": [
    "# Decision Tree"
   ]
  },
  {
   "cell_type": "code",
   "execution_count": 43,
   "id": "37b06b97",
   "metadata": {
    "execution": {
     "iopub.execute_input": "2022-03-10T14:52:54.873888Z",
     "iopub.status.busy": "2022-03-10T14:52:54.872868Z",
     "iopub.status.idle": "2022-03-10T14:52:55.849222Z",
     "shell.execute_reply": "2022-03-10T14:52:55.848665Z",
     "shell.execute_reply.started": "2022-03-05T03:57:18.744843Z"
    },
    "papermill": {
     "duration": 1.090928,
     "end_time": "2022-03-10T14:52:55.849365",
     "exception": false,
     "start_time": "2022-03-10T14:52:54.758437",
     "status": "completed"
    },
    "tags": []
   },
   "outputs": [
    {
     "name": "stdout",
     "output_type": "stream",
     "text": [
      "Accuracy: 80.31\n",
      "Accuracy CV 10-Fold: 79.19\n",
      "Running Time: 0:00:01.808437\n"
     ]
    },
    {
     "data": {
      "image/png": "[encoded data removed]",
      "text/plain": [
       "<Figure size 432x288 with 1 Axes>"
      ]
     },
     "metadata": {
      "needs_background": "light"
     },
     "output_type": "display_data"
    }
   ],
   "source": [
    "train_pred_log, acc_log, acc_cv_log,model = fit_ml_algo(DecisionTreeClassifier(max_depth=3), \n",
    "                                                               X_train, \n",
    "                                                               y_train, \n",
    "                                                                    10)\n",
    "plot_tree(model,fontsize=5)\n",
    "print(\"Accuracy: %s\" % acc_log)\n",
    "print(\"Accuracy CV 10-Fold: %s\" % acc_cv_log)\n",
    "print(\"Running Time: %s\" % datetime.timedelta(seconds=log_time))"
   ]
  },
  {
   "cell_type": "code",
   "execution_count": 44,
   "id": "9abee803",
   "metadata": {
    "execution": {
     "iopub.execute_input": "2022-03-10T14:52:56.074415Z",
     "iopub.status.busy": "2022-03-10T14:52:56.073390Z",
     "iopub.status.idle": "2022-03-10T14:52:56.120170Z",
     "shell.execute_reply": "2022-03-10T14:52:56.120698Z",
     "shell.execute_reply.started": "2022-03-05T03:57:19.483488Z"
    },
    "papermill": {
     "duration": 0.164069,
     "end_time": "2022-03-10T14:52:56.120876",
     "exception": false,
     "start_time": "2022-03-10T14:52:55.956807",
     "status": "completed"
    },
    "tags": []
   },
   "outputs": [
    {
     "data": {
      "text/html": [
       "<div>\n",
       "<style scoped>\n",
       "    .dataframe tbody tr th:only-of-type {\n",
       "        vertical-align: middle;\n",
       "    }\n",
       "\n",
       "    .dataframe tbody tr th {\n",
       "        vertical-align: top;\n",
       "    }\n",
       "\n",
       "    .dataframe thead th {\n",
       "        text-align: right;\n",
       "    }\n",
       "</style>\n",
       "<table border=\"1\" class=\"dataframe\">\n",
       "  <thead>\n",
       "    <tr style=\"text-align: right;\">\n",
       "      <th></th>\n",
       "      <th>PassengerId</th>\n",
       "      <th>Pclass</th>\n",
       "      <th>Name</th>\n",
       "      <th>Sex</th>\n",
       "      <th>Age</th>\n",
       "      <th>SibSp</th>\n",
       "      <th>Parch</th>\n",
       "      <th>Ticket</th>\n",
       "      <th>Fare</th>\n",
       "      <th>Cabin</th>\n",
       "      <th>Embarked</th>\n",
       "      <th>Title</th>\n",
       "      <th>LastName</th>\n",
       "      <th>repeat</th>\n",
       "      <th>LastName_repeat</th>\n",
       "    </tr>\n",
       "  </thead>\n",
       "  <tbody>\n",
       "    <tr>\n",
       "      <th>0</th>\n",
       "      <td>892</td>\n",
       "      <td>3</td>\n",
       "      <td>Kelly, Mr. James</td>\n",
       "      <td>male</td>\n",
       "      <td>34.5</td>\n",
       "      <td>0</td>\n",
       "      <td>0</td>\n",
       "      <td>330911</td>\n",
       "      <td>7.8292</td>\n",
       "      <td>NaN</td>\n",
       "      <td>Q</td>\n",
       "      <td>Mr</td>\n",
       "      <td>Kelly</td>\n",
       "      <td>0</td>\n",
       "      <td>0</td>\n",
       "    </tr>\n",
       "    <tr>\n",
       "      <th>1</th>\n",
       "      <td>893</td>\n",
       "      <td>3</td>\n",
       "      <td>Wilkes, Mrs. James (Ellen Needs)</td>\n",
       "      <td>female</td>\n",
       "      <td>47.0</td>\n",
       "      <td>1</td>\n",
       "      <td>0</td>\n",
       "      <td>363272</td>\n",
       "      <td>7.0000</td>\n",
       "      <td>NaN</td>\n",
       "      <td>S</td>\n",
       "      <td>Mrs</td>\n",
       "      <td>Wilkes</td>\n",
       "      <td>0</td>\n",
       "      <td>0</td>\n",
       "    </tr>\n",
       "    <tr>\n",
       "      <th>2</th>\n",
       "      <td>894</td>\n",
       "      <td>2</td>\n",
       "      <td>Myles, Mr. Thomas Francis</td>\n",
       "      <td>male</td>\n",
       "      <td>62.0</td>\n",
       "      <td>0</td>\n",
       "      <td>0</td>\n",
       "      <td>240276</td>\n",
       "      <td>9.6875</td>\n",
       "      <td>NaN</td>\n",
       "      <td>Q</td>\n",
       "      <td>Miss</td>\n",
       "      <td>Myles</td>\n",
       "      <td>0</td>\n",
       "      <td>0</td>\n",
       "    </tr>\n",
       "    <tr>\n",
       "      <th>3</th>\n",
       "      <td>895</td>\n",
       "      <td>3</td>\n",
       "      <td>Wirz, Mr. Albert</td>\n",
       "      <td>male</td>\n",
       "      <td>27.0</td>\n",
       "      <td>0</td>\n",
       "      <td>0</td>\n",
       "      <td>315154</td>\n",
       "      <td>8.6625</td>\n",
       "      <td>NaN</td>\n",
       "      <td>S</td>\n",
       "      <td>Mrs</td>\n",
       "      <td>Wirz</td>\n",
       "      <td>0</td>\n",
       "      <td>0</td>\n",
       "    </tr>\n",
       "    <tr>\n",
       "      <th>4</th>\n",
       "      <td>896</td>\n",
       "      <td>3</td>\n",
       "      <td>Hirvonen, Mrs. Alexander (Helga E Lindqvist)</td>\n",
       "      <td>female</td>\n",
       "      <td>22.0</td>\n",
       "      <td>1</td>\n",
       "      <td>1</td>\n",
       "      <td>3101298</td>\n",
       "      <td>12.2875</td>\n",
       "      <td>NaN</td>\n",
       "      <td>S</td>\n",
       "      <td>Mr</td>\n",
       "      <td>Hirvonen</td>\n",
       "      <td>0</td>\n",
       "      <td>0</td>\n",
       "    </tr>\n",
       "  </tbody>\n",
       "</table>\n",
       "</div>"
      ],
      "text/plain": [
       "   PassengerId  Pclass                                          Name     Sex  \\\n",
       "0          892       3                              Kelly, Mr. James    male   \n",
       "1          893       3              Wilkes, Mrs. James (Ellen Needs)  female   \n",
       "2          894       2                     Myles, Mr. Thomas Francis    male   \n",
       "3          895       3                              Wirz, Mr. Albert    male   \n",
       "4          896       3  Hirvonen, Mrs. Alexander (Helga E Lindqvist)  female   \n",
       "\n",
       "    Age  SibSp  Parch   Ticket     Fare Cabin Embarked Title  LastName  \\\n",
       "0  34.5      0      0   330911   7.8292   NaN        Q    Mr     Kelly   \n",
       "1  47.0      1      0   363272   7.0000   NaN        S   Mrs    Wilkes   \n",
       "2  62.0      0      0   240276   9.6875   NaN        Q  Miss     Myles   \n",
       "3  27.0      0      0   315154   8.6625   NaN        S   Mrs      Wirz   \n",
       "4  22.0      1      1  3101298  12.2875   NaN        S    Mr  Hirvonen   \n",
       "\n",
       "   repeat  LastName_repeat  \n",
       "0       0                0  \n",
       "1       0                0  \n",
       "2       0                0  \n",
       "3       0                0  \n",
       "4       0                0  "
      ]
     },
     "execution_count": 44,
     "metadata": {},
     "output_type": "execute_result"
    }
   ],
   "source": [
    "test[\"LastName\"]=test[\"Name\"].str.split(',').str[0]\n",
    "test[\"repeat\"]=0\n",
    "#train[\"repeat\"].loc[ train[\"LastName\"].is_unique()]=1\n",
    "test['repeat'] = test.groupby('LastName')['repeat'].transform(lambda x: 1 if x.unique == 0 else x)\n",
    "test['LastName'].value_counts()\n",
    "test['LastName_repeat'] = test['LastName'].duplicated(keep=False)\n",
    "test[\"LastName_repeat\"] = test[\"LastName_repeat\"].astype(int)\n",
    "\n",
    "test.head()"
   ]
  },
  {
   "cell_type": "code",
   "execution_count": 45,
   "id": "2bfb0583",
   "metadata": {
    "execution": {
     "iopub.execute_input": "2022-03-10T14:52:56.345576Z",
     "iopub.status.busy": "2022-03-10T14:52:56.344847Z",
     "iopub.status.idle": "2022-03-10T14:52:56.366384Z",
     "shell.execute_reply": "2022-03-10T14:52:56.366935Z",
     "shell.execute_reply.started": "2022-03-05T03:57:19.546668Z"
    },
    "papermill": {
     "duration": 0.138296,
     "end_time": "2022-03-10T14:52:56.367106",
     "exception": false,
     "start_time": "2022-03-10T14:52:56.228810",
     "status": "completed"
    },
    "tags": []
   },
   "outputs": [
    {
     "name": "stderr",
     "output_type": "stream",
     "text": [
      "/opt/conda/lib/python3.7/site-packages/ipykernel_launcher.py:1: SettingWithCopyWarning: \n",
      "A value is trying to be set on a copy of a slice from a DataFrame\n",
      "\n",
      "See the caveats in the documentation: https://pandas.pydata.org/pandas-docs/stable/user_guide/indexing.html#returning-a-view-versus-a-copy\n",
      "  \"\"\"Entry point for launching an IPython kernel.\n",
      "/opt/conda/lib/python3.7/site-packages/ipykernel_launcher.py:2: SettingWithCopyWarning: \n",
      "A value is trying to be set on a copy of a slice from a DataFrame\n",
      "\n",
      "See the caveats in the documentation: https://pandas.pydata.org/pandas-docs/stable/user_guide/indexing.html#returning-a-view-versus-a-copy\n",
      "  \n"
     ]
    }
   ],
   "source": [
    "test.Sex[test.Sex == 'male'] = 1\n",
    "test.Sex[test.Sex == 'female'] = 0\n",
    "test['TicketCount'] = 1\n",
    "test['TicketCount'] =test.groupby(['Ticket'])['Name'].transform('count')\n",
    "# One hot encode the columns in the test data frame (like X_train)\n",
    "test_embarked_one_hot = pd.get_dummies(test['Embarked'], \n",
    "                                       prefix='embarked')\n",
    "\n",
    "#one hot encode column\n",
    "\n",
    "\n",
    "test_sex_one_hot = pd.get_dummies(test['Sex'], \n",
    "                                prefix='sex')\n",
    "\n",
    "test_LastName_repeat_one_hot = pd.get_dummies(test['LastName_repeat'], \n",
    "                                   prefix='LastName_repeat')\n",
    "test_plcass_one_hot = pd.get_dummies(test['Pclass'], \n",
    "                                   prefix='pclass')\n"
   ]
  },
  {
   "cell_type": "code",
   "execution_count": 46,
   "id": "7c2a6af7",
   "metadata": {
    "execution": {
     "iopub.execute_input": "2022-03-10T14:52:56.588620Z",
     "iopub.status.busy": "2022-03-10T14:52:56.587956Z",
     "iopub.status.idle": "2022-03-10T14:52:56.609488Z",
     "shell.execute_reply": "2022-03-10T14:52:56.610076Z",
     "shell.execute_reply.started": "2022-03-05T03:57:19.574727Z"
    },
    "papermill": {
     "duration": 0.133511,
     "end_time": "2022-03-10T14:52:56.610243",
     "exception": false,
     "start_time": "2022-03-10T14:52:56.476732",
     "status": "completed"
    },
    "tags": []
   },
   "outputs": [
    {
     "data": {
      "text/html": [
       "<div>\n",
       "<style scoped>\n",
       "    .dataframe tbody tr th:only-of-type {\n",
       "        vertical-align: middle;\n",
       "    }\n",
       "\n",
       "    .dataframe tbody tr th {\n",
       "        vertical-align: top;\n",
       "    }\n",
       "\n",
       "    .dataframe thead th {\n",
       "        text-align: right;\n",
       "    }\n",
       "</style>\n",
       "<table border=\"1\" class=\"dataframe\">\n",
       "  <thead>\n",
       "    <tr style=\"text-align: right;\">\n",
       "      <th></th>\n",
       "      <th>PassengerId</th>\n",
       "      <th>Pclass</th>\n",
       "      <th>Name</th>\n",
       "      <th>Sex</th>\n",
       "      <th>Age</th>\n",
       "      <th>SibSp</th>\n",
       "      <th>Parch</th>\n",
       "      <th>Ticket</th>\n",
       "      <th>Fare</th>\n",
       "      <th>Cabin</th>\n",
       "      <th>Embarked</th>\n",
       "      <th>Title</th>\n",
       "      <th>LastName</th>\n",
       "      <th>repeat</th>\n",
       "      <th>LastName_repeat</th>\n",
       "      <th>TicketCount</th>\n",
       "      <th>embarked_C</th>\n",
       "      <th>embarked_Q</th>\n",
       "      <th>embarked_S</th>\n",
       "      <th>sex_0</th>\n",
       "      <th>sex_1</th>\n",
       "      <th>pclass_1</th>\n",
       "      <th>pclass_2</th>\n",
       "      <th>pclass_3</th>\n",
       "    </tr>\n",
       "  </thead>\n",
       "  <tbody>\n",
       "    <tr>\n",
       "      <th>0</th>\n",
       "      <td>892</td>\n",
       "      <td>3</td>\n",
       "      <td>Kelly, Mr. James</td>\n",
       "      <td>1</td>\n",
       "      <td>34.5</td>\n",
       "      <td>0</td>\n",
       "      <td>0</td>\n",
       "      <td>330911</td>\n",
       "      <td>7.8292</td>\n",
       "      <td>NaN</td>\n",
       "      <td>Q</td>\n",
       "      <td>Mr</td>\n",
       "      <td>Kelly</td>\n",
       "      <td>0</td>\n",
       "      <td>0</td>\n",
       "      <td>1</td>\n",
       "      <td>0</td>\n",
       "      <td>1</td>\n",
       "      <td>0</td>\n",
       "      <td>0</td>\n",
       "      <td>1</td>\n",
       "      <td>0</td>\n",
       "      <td>0</td>\n",
       "      <td>1</td>\n",
       "    </tr>\n",
       "    <tr>\n",
       "      <th>1</th>\n",
       "      <td>893</td>\n",
       "      <td>3</td>\n",
       "      <td>Wilkes, Mrs. James (Ellen Needs)</td>\n",
       "      <td>0</td>\n",
       "      <td>47.0</td>\n",
       "      <td>1</td>\n",
       "      <td>0</td>\n",
       "      <td>363272</td>\n",
       "      <td>7.0000</td>\n",
       "      <td>NaN</td>\n",
       "      <td>S</td>\n",
       "      <td>Mrs</td>\n",
       "      <td>Wilkes</td>\n",
       "      <td>0</td>\n",
       "      <td>0</td>\n",
       "      <td>1</td>\n",
       "      <td>0</td>\n",
       "      <td>0</td>\n",
       "      <td>1</td>\n",
       "      <td>1</td>\n",
       "      <td>0</td>\n",
       "      <td>0</td>\n",
       "      <td>0</td>\n",
       "      <td>1</td>\n",
       "    </tr>\n",
       "    <tr>\n",
       "      <th>2</th>\n",
       "      <td>894</td>\n",
       "      <td>2</td>\n",
       "      <td>Myles, Mr. Thomas Francis</td>\n",
       "      <td>1</td>\n",
       "      <td>62.0</td>\n",
       "      <td>0</td>\n",
       "      <td>0</td>\n",
       "      <td>240276</td>\n",
       "      <td>9.6875</td>\n",
       "      <td>NaN</td>\n",
       "      <td>Q</td>\n",
       "      <td>Miss</td>\n",
       "      <td>Myles</td>\n",
       "      <td>0</td>\n",
       "      <td>0</td>\n",
       "      <td>1</td>\n",
       "      <td>0</td>\n",
       "      <td>1</td>\n",
       "      <td>0</td>\n",
       "      <td>0</td>\n",
       "      <td>1</td>\n",
       "      <td>0</td>\n",
       "      <td>1</td>\n",
       "      <td>0</td>\n",
       "    </tr>\n",
       "    <tr>\n",
       "      <th>3</th>\n",
       "      <td>895</td>\n",
       "      <td>3</td>\n",
       "      <td>Wirz, Mr. Albert</td>\n",
       "      <td>1</td>\n",
       "      <td>27.0</td>\n",
       "      <td>0</td>\n",
       "      <td>0</td>\n",
       "      <td>315154</td>\n",
       "      <td>8.6625</td>\n",
       "      <td>NaN</td>\n",
       "      <td>S</td>\n",
       "      <td>Mrs</td>\n",
       "      <td>Wirz</td>\n",
       "      <td>0</td>\n",
       "      <td>0</td>\n",
       "      <td>1</td>\n",
       "      <td>0</td>\n",
       "      <td>0</td>\n",
       "      <td>1</td>\n",
       "      <td>0</td>\n",
       "      <td>1</td>\n",
       "      <td>0</td>\n",
       "      <td>0</td>\n",
       "      <td>1</td>\n",
       "    </tr>\n",
       "    <tr>\n",
       "      <th>4</th>\n",
       "      <td>896</td>\n",
       "      <td>3</td>\n",
       "      <td>Hirvonen, Mrs. Alexander (Helga E Lindqvist)</td>\n",
       "      <td>0</td>\n",
       "      <td>22.0</td>\n",
       "      <td>1</td>\n",
       "      <td>1</td>\n",
       "      <td>3101298</td>\n",
       "      <td>12.2875</td>\n",
       "      <td>NaN</td>\n",
       "      <td>S</td>\n",
       "      <td>Mr</td>\n",
       "      <td>Hirvonen</td>\n",
       "      <td>0</td>\n",
       "      <td>0</td>\n",
       "      <td>1</td>\n",
       "      <td>0</td>\n",
       "      <td>0</td>\n",
       "      <td>1</td>\n",
       "      <td>1</td>\n",
       "      <td>0</td>\n",
       "      <td>0</td>\n",
       "      <td>0</td>\n",
       "      <td>1</td>\n",
       "    </tr>\n",
       "  </tbody>\n",
       "</table>\n",
       "</div>"
      ],
      "text/plain": [
       "   PassengerId  Pclass                                          Name Sex  \\\n",
       "0          892       3                              Kelly, Mr. James   1   \n",
       "1          893       3              Wilkes, Mrs. James (Ellen Needs)   0   \n",
       "2          894       2                     Myles, Mr. Thomas Francis   1   \n",
       "3          895       3                              Wirz, Mr. Albert   1   \n",
       "4          896       3  Hirvonen, Mrs. Alexander (Helga E Lindqvist)   0   \n",
       "\n",
       "    Age  SibSp  Parch   Ticket     Fare Cabin Embarked Title  LastName  \\\n",
       "0  34.5      0      0   330911   7.8292   NaN        Q    Mr     Kelly   \n",
       "1  47.0      1      0   363272   7.0000   NaN        S   Mrs    Wilkes   \n",
       "2  62.0      0      0   240276   9.6875   NaN        Q  Miss     Myles   \n",
       "3  27.0      0      0   315154   8.6625   NaN        S   Mrs      Wirz   \n",
       "4  22.0      1      1  3101298  12.2875   NaN        S    Mr  Hirvonen   \n",
       "\n",
       "   repeat  LastName_repeat  TicketCount  embarked_C  embarked_Q  embarked_S  \\\n",
       "0       0                0            1           0           1           0   \n",
       "1       0                0            1           0           0           1   \n",
       "2       0                0            1           0           1           0   \n",
       "3       0                0            1           0           0           1   \n",
       "4       0                0            1           0           0           1   \n",
       "\n",
       "   sex_0  sex_1  pclass_1  pclass_2  pclass_3  \n",
       "0      0      1         0         0         1  \n",
       "1      1      0         0         0         1  \n",
       "2      0      1         0         1         0  \n",
       "3      0      1         0         0         1  \n",
       "4      1      0         0         0         1  "
      ]
     },
     "execution_count": 46,
     "metadata": {},
     "output_type": "execute_result"
    }
   ],
   "source": [
    "test = pd.concat([test, \n",
    "                  test_embarked_one_hot, \n",
    "                  test_sex_one_hot, \n",
    "                  test_plcass_one_hot], axis=1)\n",
    "test.head()"
   ]
  },
  {
   "cell_type": "code",
   "execution_count": 47,
   "id": "6df400a2",
   "metadata": {
    "execution": {
     "iopub.execute_input": "2022-03-10T14:52:56.834827Z",
     "iopub.status.busy": "2022-03-10T14:52:56.834165Z",
     "iopub.status.idle": "2022-03-10T14:52:56.837606Z",
     "shell.execute_reply": "2022-03-10T14:52:56.837105Z",
     "shell.execute_reply.started": "2022-03-05T03:57:19.598522Z"
    },
    "papermill": {
     "duration": 0.118148,
     "end_time": "2022-03-10T14:52:56.837756",
     "exception": false,
     "start_time": "2022-03-10T14:52:56.719608",
     "status": "completed"
    },
    "tags": []
   },
   "outputs": [
    {
     "data": {
      "text/plain": [
       "Index(['PassengerId', 'LastName_repeat', 'SibSp', 'Parch', 'TicketCount',\n",
       "       'embarked_C', 'embarked_Q', 'embarked_S', 'sex_0', 'sex_1', 'pclass_1',\n",
       "       'pclass_2', 'pclass_3'],\n",
       "      dtype='object')"
      ]
     },
     "execution_count": 47,
     "metadata": {},
     "output_type": "execute_result"
    }
   ],
   "source": [
    "wanted_test_columns = X_train.columns\n",
    "wanted_test_columns"
   ]
  },
  {
   "cell_type": "code",
   "execution_count": 48,
   "id": "5e124445",
   "metadata": {
    "execution": {
     "iopub.execute_input": "2022-03-10T14:52:57.064459Z",
     "iopub.status.busy": "2022-03-10T14:52:57.061681Z",
     "iopub.status.idle": "2022-03-10T14:52:57.067186Z",
     "shell.execute_reply": "2022-03-10T14:52:57.067753Z",
     "shell.execute_reply.started": "2022-03-05T03:57:19.608978Z"
    },
    "papermill": {
     "duration": 0.121752,
     "end_time": "2022-03-10T14:52:57.067929",
     "exception": false,
     "start_time": "2022-03-10T14:52:56.946177",
     "status": "completed"
    },
    "tags": []
   },
   "outputs": [],
   "source": [
    "predictions = model.predict(test[wanted_test_columns])\n"
   ]
  },
  {
   "cell_type": "code",
   "execution_count": 49,
   "id": "94527f4b",
   "metadata": {
    "execution": {
     "iopub.execute_input": "2022-03-10T14:52:57.294480Z",
     "iopub.status.busy": "2022-03-10T14:52:57.293872Z",
     "iopub.status.idle": "2022-03-10T14:52:57.301759Z",
     "shell.execute_reply": "2022-03-10T14:52:57.302270Z",
     "shell.execute_reply.started": "2022-03-05T03:59:56.082045Z"
    },
    "papermill": {
     "duration": 0.124125,
     "end_time": "2022-03-10T14:52:57.302441",
     "exception": false,
     "start_time": "2022-03-10T14:52:57.178316",
     "status": "completed"
    },
    "tags": []
   },
   "outputs": [
    {
     "data": {
      "text/html": [
       "<div>\n",
       "<style scoped>\n",
       "    .dataframe tbody tr th:only-of-type {\n",
       "        vertical-align: middle;\n",
       "    }\n",
       "\n",
       "    .dataframe tbody tr th {\n",
       "        vertical-align: top;\n",
       "    }\n",
       "\n",
       "    .dataframe thead th {\n",
       "        text-align: right;\n",
       "    }\n",
       "</style>\n",
       "<table border=\"1\" class=\"dataframe\">\n",
       "  <thead>\n",
       "    <tr style=\"text-align: right;\">\n",
       "      <th></th>\n",
       "      <th>PassengerId</th>\n",
       "      <th>Survived</th>\n",
       "    </tr>\n",
       "  </thead>\n",
       "  <tbody>\n",
       "    <tr>\n",
       "      <th>0</th>\n",
       "      <td>892</td>\n",
       "      <td>0</td>\n",
       "    </tr>\n",
       "    <tr>\n",
       "      <th>1</th>\n",
       "      <td>893</td>\n",
       "      <td>1</td>\n",
       "    </tr>\n",
       "    <tr>\n",
       "      <th>2</th>\n",
       "      <td>894</td>\n",
       "      <td>0</td>\n",
       "    </tr>\n",
       "    <tr>\n",
       "      <th>3</th>\n",
       "      <td>895</td>\n",
       "      <td>0</td>\n",
       "    </tr>\n",
       "    <tr>\n",
       "      <th>4</th>\n",
       "      <td>896</td>\n",
       "      <td>1</td>\n",
       "    </tr>\n",
       "  </tbody>\n",
       "</table>\n",
       "</div>"
      ],
      "text/plain": [
       "   PassengerId  Survived\n",
       "0          892         0\n",
       "1          893         1\n",
       "2          894         0\n",
       "3          895         0\n",
       "4          896         1"
      ]
     },
     "execution_count": 49,
     "metadata": {},
     "output_type": "execute_result"
    }
   ],
   "source": [
    "submission = pd.DataFrame()\n",
    "submission['PassengerId'] = test['PassengerId']\n",
    "submission['Survived'] = predictions # our model predictions on the test dataset\n",
    "submission['Survived'] = submission['Survived'].astype(int)\n",
    "submission.head()"
   ]
  },
  {
   "cell_type": "code",
   "execution_count": 50,
   "id": "637b4178",
   "metadata": {
    "execution": {
     "iopub.execute_input": "2022-03-10T14:52:57.526788Z",
     "iopub.status.busy": "2022-03-10T14:52:57.526133Z",
     "iopub.status.idle": "2022-03-10T14:52:57.529733Z",
     "shell.execute_reply": "2022-03-10T14:52:57.530256Z",
     "shell.execute_reply.started": "2022-03-05T04:00:18.192115Z"
    },
    "papermill": {
     "duration": 0.118955,
     "end_time": "2022-03-10T14:52:57.530424",
     "exception": false,
     "start_time": "2022-03-10T14:52:57.411469",
     "status": "completed"
    },
    "tags": []
   },
   "outputs": [
    {
     "name": "stdout",
     "output_type": "stream",
     "text": [
      "Submission dataframe is the same length as test (418 rows).\n"
     ]
    }
   ],
   "source": [
    "# Are our test and submission dataframes the same length?\n",
    "if len(submission) == len(test):\n",
    "    print(\"Submission dataframe is the same length as test ({} rows).\".format(len(submission)))\n",
    "else:\n",
    "    print(\"Dataframes mismatched, won't be able to submit to Kaggle.\")"
   ]
  },
  {
   "cell_type": "code",
   "execution_count": 51,
   "id": "f0fe6ab4",
   "metadata": {
    "execution": {
     "iopub.execute_input": "2022-03-10T14:52:57.756156Z",
     "iopub.status.busy": "2022-03-10T14:52:57.755462Z",
     "iopub.status.idle": "2022-03-10T14:52:57.762702Z",
     "shell.execute_reply": "2022-03-10T14:52:57.762166Z"
    },
    "papermill": {
     "duration": 0.12102,
     "end_time": "2022-03-10T14:52:57.762848",
     "exception": false,
     "start_time": "2022-03-10T14:52:57.641828",
     "status": "completed"
    },
    "tags": []
   },
   "outputs": [],
   "source": [
    "path='C:\\\\Users\\\\taqi1\\\\Downloads\\\\'\n",
    "\n",
    "submission.to_csv(path+'DecisionTree_submission.csv', index=False)\n"
   ]
  },
  {
   "cell_type": "code",
   "execution_count": 52,
   "id": "94faa541",
   "metadata": {
    "execution": {
     "iopub.execute_input": "2022-03-10T14:52:57.987772Z",
     "iopub.status.busy": "2022-03-10T14:52:57.986965Z",
     "iopub.status.idle": "2022-03-10T14:52:57.999278Z",
     "shell.execute_reply": "2022-03-10T14:52:57.999791Z",
     "shell.execute_reply.started": "2022-03-05T04:12:33.141323Z"
    },
    "papermill": {
     "duration": 0.127103,
     "end_time": "2022-03-10T14:52:57.999959",
     "exception": false,
     "start_time": "2022-03-10T14:52:57.872856",
     "status": "completed"
    },
    "tags": []
   },
   "outputs": [
    {
     "name": "stdout",
     "output_type": "stream",
     "text": [
      "     PassengerId  Survived\n",
      "0            892         0\n",
      "1            893         1\n",
      "2            894         0\n",
      "3            895         0\n",
      "4            896         1\n",
      "5            897         0\n",
      "6            898         1\n",
      "7            899         0\n",
      "8            900         1\n",
      "9            901         0\n",
      "10           902         0\n",
      "11           903         0\n",
      "12           904         1\n",
      "13           905         0\n",
      "14           906         1\n",
      "15           907         1\n",
      "16           908         0\n",
      "17           909         0\n",
      "18           910         1\n",
      "19           911         1\n",
      "20           912         0\n",
      "21           913         0\n",
      "22           914         1\n",
      "23           915         0\n",
      "24           916         1\n",
      "25           917         0\n",
      "26           918         1\n",
      "27           919         0\n",
      "28           920         0\n",
      "29           921         0\n",
      "30           922         0\n",
      "31           923         0\n",
      "32           924         1\n",
      "33           925         1\n",
      "34           926         0\n",
      "35           927         0\n",
      "36           928         1\n",
      "37           929         1\n",
      "38           930         0\n",
      "39           931         0\n",
      "40           932         0\n",
      "41           933         0\n",
      "42           934         0\n",
      "43           935         1\n",
      "44           936         1\n",
      "45           937         0\n",
      "46           938         0\n",
      "47           939         0\n",
      "48           940         1\n",
      "49           941         1\n",
      "50           942         0\n",
      "51           943         0\n",
      "52           944         1\n",
      "53           945         1\n",
      "54           946         0\n",
      "55           947         0\n",
      "56           948         0\n",
      "57           949         0\n",
      "58           950         0\n",
      "59           951         1\n",
      "60           952         0\n",
      "61           953         0\n",
      "62           954         0\n",
      "63           955         1\n",
      "64           956         0\n",
      "65           957         1\n",
      "66           958         1\n",
      "67           959         0\n",
      "68           960         0\n",
      "69           961         1\n",
      "70           962         1\n",
      "71           963         0\n",
      "72           964         1\n",
      "73           965         0\n",
      "74           966         1\n",
      "75           967         0\n",
      "76           968         0\n",
      "77           969         1\n",
      "78           970         0\n",
      "79           971         1\n",
      "80           972         0\n",
      "81           973         0\n",
      "82           974         0\n",
      "83           975         0\n",
      "84           976         0\n",
      "85           977         0\n",
      "86           978         1\n",
      "87           979         1\n",
      "88           980         1\n",
      "89           981         0\n",
      "90           982         1\n",
      "91           983         0\n",
      "92           984         1\n",
      "93           985         0\n",
      "94           986         0\n",
      "95           987         0\n",
      "96           988         1\n",
      "97           989         0\n",
      "98           990         1\n",
      "99           991         0\n",
      "100          992         1\n",
      "101          993         0\n",
      "102          994         0\n",
      "103          995         0\n",
      "104          996         1\n",
      "105          997         0\n",
      "106          998         0\n",
      "107          999         0\n",
      "108         1000         0\n",
      "109         1001         0\n",
      "110         1002         0\n",
      "111         1003         1\n",
      "112         1004         1\n",
      "113         1005         1\n",
      "114         1006         1\n",
      "115         1007         0\n",
      "116         1008         0\n",
      "117         1009         1\n",
      "118         1010         0\n",
      "119         1011         1\n",
      "120         1012         1\n",
      "121         1013         0\n",
      "122         1014         1\n",
      "123         1015         0\n",
      "124         1016         0\n",
      "125         1017         1\n",
      "126         1018         0\n",
      "127         1019         1\n",
      "128         1020         0\n",
      "129         1021         0\n",
      "130         1022         0\n",
      "131         1023         0\n",
      "132         1024         1\n",
      "133         1025         0\n",
      "134         1026         0\n",
      "135         1027         0\n",
      "136         1028         0\n",
      "137         1029         0\n",
      "138         1030         1\n",
      "139         1031         0\n",
      "140         1032         1\n",
      "141         1033         1\n",
      "142         1034         0\n",
      "143         1035         0\n",
      "144         1036         0\n",
      "145         1037         0\n",
      "146         1038         0\n",
      "147         1039         0\n",
      "148         1040         0\n",
      "149         1041         0\n",
      "150         1042         1\n",
      "151         1043         0\n",
      "152         1044         0\n",
      "153         1045         1\n",
      "154         1046         0\n",
      "155         1047         0\n",
      "156         1048         1\n",
      "157         1049         1\n",
      "158         1050         0\n",
      "159         1051         1\n",
      "160         1052         1\n",
      "161         1053         0\n",
      "162         1054         1\n",
      "163         1055         0\n",
      "164         1056         0\n",
      "165         1057         1\n",
      "166         1058         0\n",
      "167         1059         0\n",
      "168         1060         1\n",
      "169         1061         1\n",
      "170         1062         0\n",
      "171         1063         0\n",
      "172         1064         0\n",
      "173         1065         0\n",
      "174         1066         0\n",
      "175         1067         1\n",
      "176         1068         1\n",
      "177         1069         0\n",
      "178         1070         1\n",
      "179         1071         1\n",
      "180         1072         0\n",
      "181         1073         0\n",
      "182         1074         1\n",
      "183         1075         0\n",
      "184         1076         1\n",
      "185         1077         0\n",
      "186         1078         1\n",
      "187         1079         0\n",
      "188         1080         1\n",
      "189         1081         0\n",
      "190         1082         0\n",
      "191         1083         0\n",
      "192         1084         0\n",
      "193         1085         0\n",
      "194         1086         0\n",
      "195         1087         0\n",
      "196         1088         0\n",
      "197         1089         1\n",
      "198         1090         0\n",
      "199         1091         1\n",
      "200         1092         1\n",
      "201         1093         0\n",
      "202         1094         0\n",
      "203         1095         1\n",
      "204         1096         0\n",
      "205         1097         0\n",
      "206         1098         1\n",
      "207         1099         0\n",
      "208         1100         1\n",
      "209         1101         0\n",
      "210         1102         0\n",
      "211         1103         0\n",
      "212         1104         0\n",
      "213         1105         1\n",
      "214         1106         1\n",
      "215         1107         0\n",
      "216         1108         1\n",
      "217         1109         0\n",
      "218         1110         1\n",
      "219         1111         0\n",
      "220         1112         1\n",
      "221         1113         0\n",
      "222         1114         1\n",
      "223         1115         0\n",
      "224         1116         1\n",
      "225         1117         1\n",
      "226         1118         0\n",
      "227         1119         1\n",
      "228         1120         0\n",
      "229         1121         0\n",
      "230         1122         0\n",
      "231         1123         1\n",
      "232         1124         0\n",
      "233         1125         0\n",
      "234         1126         0\n",
      "235         1127         0\n",
      "236         1128         0\n",
      "237         1129         0\n",
      "238         1130         1\n",
      "239         1131         1\n",
      "240         1132         1\n",
      "241         1133         1\n",
      "242         1134         0\n",
      "243         1135         0\n",
      "244         1136         0\n",
      "245         1137         0\n",
      "246         1138         1\n",
      "247         1139         0\n",
      "248         1140         1\n",
      "249         1141         1\n",
      "250         1142         1\n",
      "251         1143         0\n",
      "252         1144         0\n",
      "253         1145         0\n",
      "254         1146         0\n",
      "255         1147         0\n",
      "256         1148         0\n",
      "257         1149         0\n",
      "258         1150         1\n",
      "259         1151         0\n",
      "260         1152         0\n",
      "261         1153         0\n",
      "262         1154         1\n",
      "263         1155         1\n",
      "264         1156         0\n",
      "265         1157         0\n",
      "266         1158         0\n",
      "267         1159         0\n",
      "268         1160         1\n",
      "269         1161         0\n",
      "270         1162         0\n",
      "271         1163         0\n",
      "272         1164         1\n",
      "273         1165         1\n",
      "274         1166         0\n",
      "275         1167         1\n",
      "276         1168         0\n",
      "277         1169         0\n",
      "278         1170         0\n",
      "279         1171         0\n",
      "280         1172         1\n",
      "281         1173         0\n",
      "282         1174         1\n",
      "283         1175         1\n",
      "284         1176         1\n",
      "285         1177         0\n",
      "286         1178         0\n",
      "287         1179         0\n",
      "288         1180         0\n",
      "289         1181         0\n",
      "290         1182         0\n",
      "291         1183         1\n",
      "292         1184         0\n",
      "293         1185         0\n",
      "294         1186         0\n",
      "295         1187         0\n",
      "296         1188         1\n",
      "297         1189         0\n",
      "298         1190         0\n",
      "299         1191         0\n",
      "300         1192         0\n",
      "301         1193         0\n",
      "302         1194         0\n",
      "303         1195         0\n",
      "304         1196         1\n",
      "305         1197         1\n",
      "306         1198         0\n",
      "307         1199         0\n",
      "308         1200         0\n",
      "309         1201         1\n",
      "310         1202         0\n",
      "311         1203         0\n",
      "312         1204         0\n",
      "313         1205         1\n",
      "314         1206         1\n",
      "315         1207         1\n",
      "316         1208         0\n",
      "317         1209         0\n",
      "318         1210         0\n",
      "319         1211         0\n",
      "320         1212         0\n",
      "321         1213         0\n",
      "322         1214         0\n",
      "323         1215         0\n",
      "324         1216         1\n",
      "325         1217         0\n",
      "326         1218         1\n",
      "327         1219         0\n",
      "328         1220         0\n",
      "329         1221         0\n",
      "330         1222         1\n",
      "331         1223         0\n",
      "332         1224         0\n",
      "333         1225         1\n",
      "334         1226         0\n",
      "335         1227         0\n",
      "336         1228         0\n",
      "337         1229         0\n",
      "338         1230         0\n",
      "339         1231         0\n",
      "340         1232         0\n",
      "341         1233         0\n",
      "342         1234         0\n",
      "343         1235         1\n",
      "344         1236         0\n",
      "345         1237         1\n",
      "346         1238         0\n",
      "347         1239         1\n",
      "348         1240         0\n",
      "349         1241         1\n",
      "350         1242         1\n",
      "351         1243         0\n",
      "352         1244         0\n",
      "353         1245         0\n",
      "354         1246         1\n",
      "355         1247         0\n",
      "356         1248         1\n",
      "357         1249         0\n",
      "358         1250         0\n",
      "359         1251         1\n",
      "360         1252         0\n",
      "361         1253         1\n",
      "362         1254         1\n",
      "363         1255         0\n",
      "364         1256         1\n",
      "365         1257         1\n",
      "366         1258         0\n",
      "367         1259         1\n",
      "368         1260         1\n",
      "369         1261         0\n",
      "370         1262         0\n",
      "371         1263         1\n",
      "372         1264         0\n",
      "373         1265         0\n",
      "374         1266         1\n",
      "375         1267         1\n",
      "376         1268         1\n",
      "377         1269         0\n",
      "378         1270         0\n",
      "379         1271         0\n",
      "380         1272         0\n",
      "381         1273         0\n",
      "382         1274         1\n",
      "383         1275         1\n",
      "384         1276         0\n",
      "385         1277         1\n",
      "386         1278         0\n",
      "387         1279         0\n",
      "388         1280         0\n",
      "389         1281         0\n",
      "390         1282         0\n",
      "391         1283         1\n",
      "392         1284         0\n",
      "393         1285         0\n",
      "394         1286         0\n",
      "395         1287         1\n",
      "396         1288         0\n",
      "397         1289         1\n",
      "398         1290         0\n",
      "399         1291         0\n",
      "400         1292         1\n",
      "401         1293         0\n",
      "402         1294         1\n",
      "403         1295         0\n",
      "404         1296         0\n",
      "405         1297         0\n",
      "406         1298         0\n",
      "407         1299         0\n",
      "408         1300         1\n",
      "409         1301         1\n",
      "410         1302         1\n",
      "411         1303         1\n",
      "412         1304         1\n",
      "413         1305         0\n",
      "414         1306         1\n",
      "415         1307         0\n",
      "416         1308         0\n",
      "417         1309         0\n"
     ]
    }
   ],
   "source": [
    "submissions_check = pd.read_csv(path+\"DecisionTree_submission.csv\")\n",
    "print(submissions_check)"
   ]
  },
  {
   "cell_type": "code",
   "execution_count": null,
   "id": "c64418d0",
   "metadata": {
    "papermill": {
     "duration": 0.110489,
     "end_time": "2022-03-10T14:52:58.223644",
     "exception": false,
     "start_time": "2022-03-10T14:52:58.113155",
     "status": "completed"
    },
    "tags": []
   },
   "outputs": [],
   "source": []
  },
  {
   "cell_type": "code",
   "execution_count": null,
   "id": "8c837090",
   "metadata": {
    "papermill": {
     "duration": 0.111458,
     "end_time": "2022-03-10T14:52:58.448642",
     "exception": false,
     "start_time": "2022-03-10T14:52:58.337184",
     "status": "completed"
    },
    "tags": []
   },
   "outputs": [],
   "source": []
  },
  {
   "cell_type": "code",
   "execution_count": null,
   "id": "03ae9822",
   "metadata": {
    "papermill": {
     "duration": 0.111611,
     "end_time": "2022-03-10T14:52:58.672408",
     "exception": false,
     "start_time": "2022-03-10T14:52:58.560797",
     "status": "completed"
    },
    "tags": []
   },
   "outputs": [],
   "source": []
  },
  {
   "cell_type": "code",
   "execution_count": null,
   "id": "99e06761",
   "metadata": {
    "papermill": {
     "duration": 0.110943,
     "end_time": "2022-03-10T14:52:58.894722",
     "exception": false,
     "start_time": "2022-03-10T14:52:58.783779",
     "status": "completed"
    },
    "tags": []
   },
   "outputs": [],
   "source": []
  },
  {
   "cell_type": "code",
   "execution_count": null,
   "id": "1fd77c37",
   "metadata": {
    "papermill": {
     "duration": 0.111198,
     "end_time": "2022-03-10T14:52:59.117929",
     "exception": false,
     "start_time": "2022-03-10T14:52:59.006731",
     "status": "completed"
    },
    "tags": []
   },
   "outputs": [],
   "source": []
  },
  {
   "cell_type": "code",
   "execution_count": null,
   "id": "3be3d33f",
   "metadata": {
    "papermill": {
     "duration": 0.113052,
     "end_time": "2022-03-10T14:52:59.342501",
     "exception": false,
     "start_time": "2022-03-10T14:52:59.229449",
     "status": "completed"
    },
    "tags": []
   },
   "outputs": [],
   "source": []
  },
  {
   "cell_type": "code",
   "execution_count": null,
   "id": "c4efee39",
   "metadata": {
    "papermill": {
     "duration": 0.11201,
     "end_time": "2022-03-10T14:52:59.565906",
     "exception": false,
     "start_time": "2022-03-10T14:52:59.453896",
     "status": "completed"
    },
    "tags": []
   },
   "outputs": [],
   "source": []
  },
  {
   "cell_type": "code",
   "execution_count": null,
   "id": "987d0716",
   "metadata": {
    "papermill": {
     "duration": 0.110964,
     "end_time": "2022-03-10T14:52:59.788117",
     "exception": false,
     "start_time": "2022-03-10T14:52:59.677153",
     "status": "completed"
    },
    "tags": []
   },
   "outputs": [],
   "source": []
  },
  {
   "cell_type": "code",
   "execution_count": null,
   "id": "5e0f7420",
   "metadata": {
    "papermill": {
     "duration": 0.111559,
     "end_time": "2022-03-10T14:53:00.010989",
     "exception": false,
     "start_time": "2022-03-10T14:52:59.899430",
     "status": "completed"
    },
    "tags": []
   },
   "outputs": [],
   "source": []
  },
  {
   "cell_type": "code",
   "execution_count": null,
   "id": "922e3021",
   "metadata": {
    "papermill": {
     "duration": 0.110778,
     "end_time": "2022-03-10T14:53:00.233445",
     "exception": false,
     "start_time": "2022-03-10T14:53:00.122667",
     "status": "completed"
    },
    "tags": []
   },
   "outputs": [],
   "source": []
  },
  {
   "cell_type": "code",
   "execution_count": null,
   "id": "c922986c",
   "metadata": {
    "papermill": {
     "duration": 0.110205,
     "end_time": "2022-03-10T14:53:00.456247",
     "exception": false,
     "start_time": "2022-03-10T14:53:00.346042",
     "status": "completed"
    },
    "tags": []
   },
   "outputs": [],
   "source": []
  },
  {
   "cell_type": "code",
   "execution_count": null,
   "id": "e18a789e",
   "metadata": {
    "papermill": {
     "duration": 0.110772,
     "end_time": "2022-03-10T14:53:00.678120",
     "exception": false,
     "start_time": "2022-03-10T14:53:00.567348",
     "status": "completed"
    },
    "tags": []
   },
   "outputs": [],
   "source": []
  },
  {
   "cell_type": "code",
   "execution_count": null,
   "id": "1bba61a5",
   "metadata": {
    "papermill": {
     "duration": 0.110688,
     "end_time": "2022-03-10T14:53:00.900034",
     "exception": false,
     "start_time": "2022-03-10T14:53:00.789346",
     "status": "completed"
    },
    "tags": []
   },
   "outputs": [],
   "source": []
  },
  {
   "cell_type": "code",
   "execution_count": null,
   "id": "28180a62",
   "metadata": {
    "papermill": {
     "duration": 0.116981,
     "end_time": "2022-03-10T14:53:01.128034",
     "exception": false,
     "start_time": "2022-03-10T14:53:01.011053",
     "status": "completed"
    },
    "tags": []
   },
   "outputs": [],
   "source": []
  },
  {
   "cell_type": "code",
   "execution_count": null,
   "id": "e66de0c7",
   "metadata": {
    "papermill": {
     "duration": 0.112574,
     "end_time": "2022-03-10T14:53:01.352343",
     "exception": false,
     "start_time": "2022-03-10T14:53:01.239769",
     "status": "completed"
    },
    "tags": []
   },
   "outputs": [],
   "source": []
  }
 ],
 "metadata": {
  "kernelspec": {
   "display_name": "Python 3",
   "language": "python",
   "name": "python3"
  },
  "language_info": {
   "codemirror_mode": {
    "name": "ipython",
    "version": 3
   },
   "file_extension": ".py",
   "mimetype": "text/x-python",
   "name": "python",
   "nbconvert_exporter": "python",
   "pygments_lexer": "ipython3",
   "version": "3.7.12"
  },
  "papermill": {
   "default_parameters": {},
   "duration": 37.541003,
   "end_time": "2022-03-10T14:53:02.274066",
   "environment_variables": {},
   "exception": null,
   "input_path": "__notebook__.ipynb",
   "output_path": "__notebook__.ipynb",
   "parameters": {},
   "start_time": "2022-03-10T14:52:24.733063",
   "version": "2.3.3"
  }
 },
 "nbformat": 4,
 "nbformat_minor": 5
}
